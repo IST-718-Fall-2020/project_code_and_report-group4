{
  "nbformat": 4,
  "nbformat_minor": 0,
  "metadata": {
    "colab": {
      "name": "group4_proj_code.ipynb",
      "provenance": [],
      "collapsed_sections": []
    },
    "kernelspec": {
      "name": "python3",
      "display_name": "Python 3"
    }
  },
  "cells": [
    {
      "cell_type": "code",
      "metadata": {
        "colab": {
          "base_uri": "https://localhost:8080/"
        },
        "id": "B1ivHIHnaJZ6",
        "outputId": "93f75f8d-3d23-4364-92a7-dc06bffc3bec"
      },
      "source": [
        "# install pyspark\n",
        "%%bash\n",
        "pip install pyspark"
      ],
      "execution_count": null,
      "outputs": [
        {
          "output_type": "stream",
          "text": [
            "Collecting pyspark\n",
            "  Downloading https://files.pythonhosted.org/packages/f0/26/198fc8c0b98580f617cb03cb298c6056587b8f0447e20fa40c5b634ced77/pyspark-3.0.1.tar.gz (204.2MB)\n",
            "Collecting py4j==0.10.9\n",
            "  Downloading https://files.pythonhosted.org/packages/9e/b6/6a4fb90cd235dc8e265a6a2067f2a2c99f0d91787f06aca4bcf7c23f3f80/py4j-0.10.9-py2.py3-none-any.whl (198kB)\n",
            "Building wheels for collected packages: pyspark\n",
            "  Building wheel for pyspark (setup.py): started\n",
            "  Building wheel for pyspark (setup.py): finished with status 'done'\n",
            "  Created wheel for pyspark: filename=pyspark-3.0.1-py2.py3-none-any.whl size=204612243 sha256=76becfd2d0a36eeee94875aff3984d1c4b3f87734dd2ecf68752fa006e505a7d\n",
            "  Stored in directory: /root/.cache/pip/wheels/5e/bd/07/031766ca628adec8435bb40f0bd83bb676ce65ff4007f8e73f\n",
            "Successfully built pyspark\n",
            "Installing collected packages: py4j, pyspark\n",
            "Successfully installed py4j-0.10.9 pyspark-3.0.1\n"
          ],
          "name": "stdout"
        }
      ]
    },
    {
      "cell_type": "code",
      "metadata": {
        "id": "ZiNVFPVjjNhq"
      },
      "source": [
        "# all needed imports\n",
        "import os\n",
        "from pyspark.sql import SparkSession, SQLContext, types, functions as fn, Row\n",
        "from pyspark.sql.functions import substring, regexp_extract, concat, count, avg, when, col, lower, concat_ws \n",
        "from pyspark.ml import feature, regression, evaluation, Pipeline, clustering\n",
        "from pyspark.ml.classification import RandomForestClassifier, LogisticRegression, DecisionTreeClassifier, GBTClassifier\n",
        "\n",
        "from pyspark.ml.clustering import KMeans\n",
        "from pyspark.ml.tuning import ParamGridBuilder,CrossValidator\n",
        "from pyspark.ml.evaluation import MulticlassClassificationEvaluator as mce, ClusteringEvaluator, BinaryClassificationEvaluator as bce\n",
        "from pyspark.ml.feature import RegexTokenizer, StopWordsRemover, CountVectorizer, IDF, VectorAssembler, StandardScaler, PCA, ChiSqSelector, StringIndexer, OneHotEncoder\n",
        "from matplotlib import pyplot as plt\n",
        "from google.colab import files\n",
        "import seaborn as sns\n",
        "import pandas as pd\n",
        "import numpy as np\n",
        "import requests\n",
        "\n",
        "spark = SparkSession \\\n",
        "  .builder \\\n",
        "  .master(\"local[*]\")\\\n",
        "  .config(\"spark.memory.fraction\", 0.8) \\\n",
        "  .config(\"spark.executor.memory\", \"12g\") \\\n",
        "  .config(\"spark.driver.memory\", \"12g\")\\\n",
        "  .config(\"spark.memory.offHeap.enabled\",'true')\\\n",
        "  .config(\"spark.memory.offHeap.size\",\"12g\")\\\n",
        "  .getOrCreate()\n",
        "sc = spark.sparkContext\n",
        "sqlContext = SQLContext(sc)"
      ],
      "execution_count": null,
      "outputs": []
    },
    {
      "cell_type": "code",
      "metadata": {
        "id": "iB9dJrehjhLt"
      },
      "source": [
        "# import raw data\n",
        "raw_data = '/content/gdrive/My Drive/ist718_data/data_group4/renttherunway_final_data.json'"
      ],
      "execution_count": null,
      "outputs": []
    },
    {
      "cell_type": "code",
      "metadata": {
        "id": "iHFU9ZkHHsac",
        "colab": {
          "base_uri": "https://localhost:8080/"
        },
        "outputId": "7ef3640e-fe3b-4f49-fdca-589a2c95b634"
      },
      "source": [
        "from google.colab import drive\n",
        "drive.mount('/content/gdrive')\n",
        "\n",
        "# You must use the definitions above to load your data.\n",
        "data_df=sqlContext.read.json(raw_data)"
      ],
      "execution_count": null,
      "outputs": [
        {
          "output_type": "stream",
          "text": [
            "Mounted at /content/gdrive\n"
          ],
          "name": "stdout"
        }
      ]
    },
    {
      "cell_type": "code",
      "metadata": {
        "id": "R5hWOwsLfye6"
      },
      "source": [
        "# read raw data \n",
        "#data_df=sqlContext.read.json(\"/content/gdrive/My Drive/data/renttherunway_final_data.json\")"
      ],
      "execution_count": null,
      "outputs": []
    },
    {
      "cell_type": "markdown",
      "metadata": {
        "id": "z4PmZhXDkPN7"
      },
      "source": [
        "# Part 1: Data Preprocessing"
      ]
    },
    {
      "cell_type": "code",
      "metadata": {
        "id": "OOGRacwHfkrl"
      },
      "source": [
        "# reformat weight and height \n",
        "data_df=data_df.withColumn(\"weights\",substring(\"weight\",1,3))\n",
        "data_df=data_df.drop(\"weight\")\n",
        "data_df = data_df.withColumn(\"heights\",fn.round((regexp_extract('height','(\\d)..(\\d)',1)*30.48+regexp_extract('height','(\\d)..(\\d)',2)*2.54),2))\n",
        "data_df = data_df.drop(\"height\")\n",
        "\n",
        "# change datatype\n",
        "data_df=data_df.withColumn(\"age\",data_df[\"age\"].cast(types.IntegerType()))\n",
        "data_df=data_df.withColumn(\"rating\",data_df[\"rating\"].cast(types.IntegerType()))\n",
        "data_df=data_df.withColumn(\"size\",data_df[\"size\"].cast(types.DoubleType()))\n",
        "data_df=data_df.withColumn(\"weights\",data_df[\"weights\"].cast(types.DoubleType()))\n",
        "data_df=data_df.withColumn(\"heights\",data_df[\"heights\"].cast(types.DoubleType()))\n",
        "data_df=data_df.drop(\"review_date\",\"_corrupt_record\",\"item_id\",\"user_id\")\n",
        "\n",
        "# rename column\n",
        "data_df=data_df.withColumnRenamed(\"body type\",\"body_type\")\n",
        "data_df=data_df.withColumnRenamed(\"bust size\",\"bust_size\")\n",
        "data_df=data_df.withColumnRenamed(\"rented for\",\"rented_for\")\n",
        "\n",
        "# remove unusual value\n",
        "data_df=data_df.filter(data_df.age<100)\n",
        "data_df=data_df.filter(data_df.age>12)"
      ],
      "execution_count": null,
      "outputs": []
    },
    {
      "cell_type": "code",
      "metadata": {
        "id": "YUNqK-f3h-Ma",
        "colab": {
          "base_uri": "https://localhost:8080/"
        },
        "outputId": "8a468df8-2500-4706-b2fc-d80115bd3a87"
      },
      "source": [
        "# check missing values\n",
        "data_df.select([count(when(col(c).isNull(), c)).alias(c) for c in data_df.columns]).show()"
      ],
      "execution_count": null,
      "outputs": [
        {
          "output_type": "stream",
          "text": [
            "+---+---------+---------+--------+---+------+----------+--------------+-----------+----+-------+-------+\n",
            "|age|body_type|bust_size|category|fit|rating|rented_for|review_summary|review_text|size|weights|heights|\n",
            "+---+---------+---------+--------+---+------+----------+--------------+-----------+----+-------+-------+\n",
            "|  0|    14075|    18346|       0|  0|    81|        10|             0|          0|   0|  30073|    668|\n",
            "+---+---------+---------+--------+---+------+----------+--------------+-----------+----+-------+-------+\n",
            "\n"
          ],
          "name": "stdout"
        }
      ]
    },
    {
      "cell_type": "code",
      "metadata": {
        "id": "ifOMTHFxhc61"
      },
      "source": [
        "# remove records with missing values in rating, review_text and review_summary\n",
        "data_df = data_df.where(col('rating').isNotNull())\n",
        "data_df = data_df.where(col('review_text').isNotNull())\n",
        "data_df = data_df.where(col('review_summary').isNotNull())\n",
        "\n",
        "# subsititude null value in size, weights and heights with average values\n",
        "ave_weight = round(data_df.groupBy().avg('weights').head()[0],3)\n",
        "ave_height = round(data_df.groupBy().avg('heights').head()[0],3)\n",
        "ave_size = round(data_df.groupBy().avg('size').head()[0],0)\n",
        "\n",
        "data_df = data_df.fillna(ave_weight,subset = 'weights')\n",
        "data_df = data_df.fillna(ave_height, subset = 'heights')\n",
        "data_df = data_df.fillna(ave_size, subset = 'size')"
      ],
      "execution_count": null,
      "outputs": []
    },
    {
      "cell_type": "code",
      "metadata": {
        "id": "oOR4I8FniLmk",
        "colab": {
          "base_uri": "https://localhost:8080/"
        },
        "outputId": "a469482d-9611-48e9-cb60-ceff15fe8ab0"
      },
      "source": [
        "# check the most common bust_size\n",
        "data_df.orderBy(\"bust_size\", ascending = False).take(1)"
      ],
      "execution_count": null,
      "outputs": [
        {
          "output_type": "execute_result",
          "data": {
            "text/plain": [
              "[Row(age=30, body_type='athletic', bust_size='48dd', category='dress', fit='fit', rating=6, rented_for='other', review_summary='Beautiful dress....but you can tell it is really worn.', review_text=\"It is a beautiful dress; however, the top button was dangling when I went to put it on and it broke. I ended up having to use a safety pin. There was also a small tear in the bottom backside of the dress. Plus the zipper was really hard to maneuver (not that is was too tight, but that it was worn out). Overall, if I saw this dress in a store and could afford it I would buy it in a heart beat, but I wouldn't rent it again. \", size=28.0, weights=185.0, heights=167.64)]"
            ]
          },
          "metadata": {
            "tags": []
          },
          "execution_count": 9
        }
      ]
    },
    {
      "cell_type": "code",
      "metadata": {
        "id": "1RE28t5KiPpO",
        "colab": {
          "base_uri": "https://localhost:8080/"
        },
        "outputId": "de6de70c-81b3-4571-b3f9-df535470ff8b"
      },
      "source": [
        "# check the most common bust_size\n",
        "data_df.orderBy(\"bust_size\", ascending = False).take(1)"
      ],
      "execution_count": null,
      "outputs": [
        {
          "output_type": "execute_result",
          "data": {
            "text/plain": [
              "[Row(age=30, body_type='athletic', bust_size='48dd', category='dress', fit='fit', rating=6, rented_for='other', review_summary='Beautiful dress....but you can tell it is really worn.', review_text=\"It is a beautiful dress; however, the top button was dangling when I went to put it on and it broke. I ended up having to use a safety pin. There was also a small tear in the bottom backside of the dress. Plus the zipper was really hard to maneuver (not that is was too tight, but that it was worn out). Overall, if I saw this dress in a store and could afford it I would buy it in a heart beat, but I wouldn't rent it again. \", size=28.0, weights=185.0, heights=167.64)]"
            ]
          },
          "metadata": {
            "tags": []
          },
          "execution_count": 10
        }
      ]
    },
    {
      "cell_type": "code",
      "metadata": {
        "id": "iHlnKcTJiQQ_"
      },
      "source": [
        "# fill null values in body_type, bust_size and rented_for with the most common value\n",
        "data_df = data_df.fillna('hourglass',subset = 'body_type')\n",
        "data_df = data_df.fillna('44f',subset = 'bust_size')\n",
        "data_df = data_df.fillna('work',subset = 'rented_for')"
      ],
      "execution_count": null,
      "outputs": []
    },
    {
      "cell_type": "code",
      "metadata": {
        "id": "fed6eIu8lVRI",
        "colab": {
          "base_uri": "https://localhost:8080/"
        },
        "outputId": "06ca5630-320e-4427-ac4f-d4c4bed59193"
      },
      "source": [
        "# check missing values again\n",
        "data_df.select([count(when(col(c).isNull(), c)).alias(c) for c in data_df.columns]).show()"
      ],
      "execution_count": null,
      "outputs": [
        {
          "output_type": "stream",
          "text": [
            "+---+---------+---------+--------+---+------+----------+--------------+-----------+----+-------+-------+\n",
            "|age|body_type|bust_size|category|fit|rating|rented_for|review_summary|review_text|size|weights|heights|\n",
            "+---+---------+---------+--------+---+------+----------+--------------+-----------+----+-------+-------+\n",
            "|  0|        0|        0|       0|  0|     0|         0|             0|          0|   0|      0|      0|\n",
            "+---+---------+---------+--------+---+------+----------+--------------+-----------+----+-------+-------+\n",
            "\n"
          ],
          "name": "stdout"
        }
      ]
    },
    {
      "cell_type": "code",
      "metadata": {
        "application/vnd.databricks.v1+cell": {
          "title": "",
          "showTitle": false,
          "inputWidgets": {},
          "nuid": "f5a2782d-5360-4b1e-b11d-07ab42baf8bd"
        },
        "id": "ehayJBf4APUN"
      },
      "source": [
        "# compute total count for body_type and rating \n",
        "body_type_df1=data_df.groupBy(data_df.body_type).count().toPandas()\n",
        "rating_df1=data_df.groupBy(data_df.rating).count().toPandas()"
      ],
      "execution_count": null,
      "outputs": []
    },
    {
      "cell_type": "code",
      "metadata": {
        "application/vnd.databricks.v1+cell": {
          "title": "",
          "showTitle": false,
          "inputWidgets": {},
          "nuid": "24d0b319-8549-4abe-9065-9dae1dd2bf21"
        },
        "id": "oPKBEmHkAPUR"
      },
      "source": [
        "# define function to draw bar plot\n",
        "def draw_bar(dataframe,column):\n",
        "    plt.figure()\n",
        "    p1 = dataframe.plot(kind='bar', x=column, width =1,fontsize = 8, edgecolor='black')\n",
        "    p1.set_xlabel('%s '%column)\n",
        "    p1.set_ylabel('count')\n",
        "    plt.xticks(rotation=45)\n",
        "    p1.set_title('Total count for %s'%column)"
      ],
      "execution_count": null,
      "outputs": []
    },
    {
      "cell_type": "code",
      "metadata": {
        "application/vnd.databricks.v1+cell": {
          "title": "",
          "showTitle": false,
          "inputWidgets": {},
          "nuid": "bedf0b3b-95fd-411e-a342-f1aaf65d3b4c"
        },
        "id": "m854HfOVAPUU",
        "colab": {
          "base_uri": "https://localhost:8080/",
          "height": 661
        },
        "outputId": "b55ffcc5-6885-4570-8cc2-50bb63108d56"
      },
      "source": [
        "# bar plot \n",
        "draw_bar(body_type_df1,\"body_type\")\n",
        "draw_bar(rating_df1,\"rating\")"
      ],
      "execution_count": null,
      "outputs": [
        {
          "output_type": "display_data",
          "data": {
            "text/plain": [
              "<Figure size 432x288 with 0 Axes>"
            ]
          },
          "metadata": {
            "tags": []
          }
        },
        {
          "output_type": "display_data",
          "data": {
            "image/png": "[encoded data removed]",
            "text/plain": [
              "<Figure size 432x288 with 1 Axes>"
            ]
          },
          "metadata": {
            "tags": [],
            "needs_background": "light"
          }
        },
        {
          "output_type": "display_data",
          "data": {
            "text/plain": [
              "<Figure size 432x288 with 0 Axes>"
            ]
          },
          "metadata": {
            "tags": []
          }
        },
        {
          "output_type": "display_data",
          "data": {
            "image/png": "[encoded data removed]",
            "text/plain": [
              "<Figure size 432x288 with 1 Axes>"
            ]
          },
          "metadata": {
            "tags": [],
            "needs_background": "light"
          }
        }
      ]
    },
    {
      "cell_type": "code",
      "metadata": {
        "id": "Zpm6tCksSMYM",
        "colab": {
          "base_uri": "https://localhost:8080/",
          "height": 1000
        },
        "outputId": "d501aba2-4e69-40b5-86d1-e05d2d91c958"
      },
      "source": [
        "# data exploration\n",
        "draw_bar(data_df.groupby(data_df.fit).count().toPandas(),'fit')\n",
        "draw_bar(data_df.groupby(data_df.body_type).count().toPandas(),'body_type')\n",
        "draw_bar(data_df.groupby(data_df.rented_for).count().toPandas(),'rented_for')"
      ],
      "execution_count": null,
      "outputs": [
        {
          "output_type": "display_data",
          "data": {
            "text/plain": [
              "<Figure size 432x288 with 0 Axes>"
            ]
          },
          "metadata": {
            "tags": []
          }
        },
        {
          "output_type": "display_data",
          "data": {
            "image/png": "[encoded data removed]",
            "text/plain": [
              "<Figure size 432x288 with 1 Axes>"
            ]
          },
          "metadata": {
            "tags": [],
            "needs_background": "light"
          }
        },
        {
          "output_type": "display_data",
          "data": {
            "text/plain": [
              "<Figure size 432x288 with 0 Axes>"
            ]
          },
          "metadata": {
            "tags": []
          }
        },
        {
          "output_type": "display_data",
          "data": {
            "image/png": "[encoded data removed]",
            "text/plain": [
              "<Figure size 432x288 with 1 Axes>"
            ]
          },
          "metadata": {
            "tags": [],
            "needs_background": "light"
          }
        },
        {
          "output_type": "display_data",
          "data": {
            "text/plain": [
              "<Figure size 432x288 with 0 Axes>"
            ]
          },
          "metadata": {
            "tags": []
          }
        },
        {
          "output_type": "display_data",
          "data": {
            "image/png": "[encoded data removed]",
            "text/plain": [
              "<Figure size 432x288 with 1 Axes>"
            ]
          },
          "metadata": {
            "tags": [],
            "needs_background": "light"
          }
        }
      ]
    },
    {
      "cell_type": "code",
      "metadata": {
        "id": "BVM6-k1G2_QP",
        "colab": {
          "base_uri": "https://localhost:8080/",
          "height": 353
        },
        "outputId": "d764c5c5-8d33-43a3-db05-ab77168ebfe9"
      },
      "source": [
        "# top 10 category\n",
        "category_count = data_df.groupby(data_df.category).count().sort('count',ascending = False).toPandas()[:10]\n",
        "plt.figure()\n",
        "p1 = category_count.plot(kind='bar', x='category', width =1,fontsize = 8, edgecolor='black')\n",
        "p1.set_xlabel('category')\n",
        "p1.set_ylabel('count')\n",
        "plt.xticks(rotation=45)\n",
        "p1.set_title('Total count for top ten category')"
      ],
      "execution_count": null,
      "outputs": [
        {
          "output_type": "execute_result",
          "data": {
            "text/plain": [
              "Text(0.5, 1.0, 'Total count for top ten category')"
            ]
          },
          "metadata": {
            "tags": []
          },
          "execution_count": 17
        },
        {
          "output_type": "display_data",
          "data": {
            "text/plain": [
              "<Figure size 432x288 with 0 Axes>"
            ]
          },
          "metadata": {
            "tags": []
          }
        },
        {
          "output_type": "display_data",
          "data": {
            "image/png": "[encoded data removed]",
            "text/plain": [
              "<Figure size 432x288 with 1 Axes>"
            ]
          },
          "metadata": {
            "tags": [],
            "needs_background": "light"
          }
        }
      ]
    },
    {
      "cell_type": "code",
      "metadata": {
        "id": "W1obb3kqbCaA",
        "colab": {
          "base_uri": "https://localhost:8080/",
          "height": 531
        },
        "outputId": "dc15bde7-09cc-4642-9017-bc5ea5b7a1c1"
      },
      "source": [
        "# data exploration of 'age'\n",
        "var = 'age'\n",
        "x = data_df.select(var).toPandas()[var]\n",
        "bins = np.arange(0, 100, 5.0)\n",
        "hist, bin_edges = np.histogram(x,bins,weights=np.zeros_like(x) + 100. / x.size)\n",
        "# make the histogram\n",
        "\n",
        "fig = plt.figure(figsize=(20, 8))\n",
        "ax = fig.add_subplot(1, 2, 1)\n",
        "\n",
        "# Plot the histogram heights against integers on the x axis\n",
        "ax.bar(range(len(hist)),hist,width=1,alpha=0.8,ec ='black', color='gold')\n",
        "# # Set the ticks to the middle of the bars\n",
        "ax.set_xticks([0.5+i for i,j in enumerate(hist)])\n",
        "# Set the xticklabels to a string that tells us what the bin edges were\n",
        "labels =['{}'.format(int(bins[i+1])) for i,j in enumerate(hist)]\n",
        "labels.insert(0,'0')\n",
        "ax.set_xticklabels(labels)\n",
        "plt.xlabel(var)\n",
        "plt.ylabel('percentage')\n",
        "plt.title('Age Distribution')"
      ],
      "execution_count": null,
      "outputs": [
        {
          "output_type": "execute_result",
          "data": {
            "text/plain": [
              "Text(0.5, 1.0, 'Age Distribution')"
            ]
          },
          "metadata": {
            "tags": []
          },
          "execution_count": 18
        },
        {
          "output_type": "display_data",
          "data": {
            "image/png": "[encoded data removed]",
            "text/plain": [
              "<Figure size 1440x576 with 1 Axes>"
            ]
          },
          "metadata": {
            "tags": [],
            "needs_background": "light"
          }
        }
      ]
    },
    {
      "cell_type": "markdown",
      "metadata": {
        "id": "ylwjr0jnl4lz"
      },
      "source": [
        "# Part 2: Sentiment Analysis"
      ]
    },
    {
      "cell_type": "code",
      "metadata": {
        "id": "8GaOij8il-x1"
      },
      "source": [
        "## prediction 1\n",
        "# reformat weight and height \n",
        "\n",
        "# set rating that lower than or equal 5 to logical value 0, rating that greater than 5 to logical value 1\n",
        "data_df_senti = data_df.withColumn('attitude', when(data_df['rating'] > 5, 1).otherwise(0))\n",
        "\n",
        "training_df, validation_df, testing_df = data_df_senti.randomSplit([0.6, 0.3, 0.1], seed=0)\n",
        "\n",
        "# tokenize function\n",
        "tokenizer = RegexTokenizer().setGaps(False).setPattern(\"\\\\p{L}+\").setInputCol(\"review_text\").setOutputCol(\"words\")\n",
        "\n",
        "# remove stop words function\n",
        "stop_words = requests.get('http://ir.dcs.gla.ac.uk/resources/linguistic_utils/stop_words').text.split()\n",
        "stop_words_remover = StopWordsRemover().setStopWords(stop_words).setCaseSensitive(False).setInputCol(\"words\").setOutputCol(\"words_cleaned\")\n",
        "\n",
        "# create a countvectorizer transformer\n",
        "cv = CountVectorizer(minTF=1., minDF=5., vocabSize=2**17).setInputCol(\"words_cleaned\").setOutputCol(\"tf\")\n",
        "\n",
        "# TF-IDF function\n",
        "idf = IDF(inputCol=\"tf\", outputCol=\"tf_idf\")\n",
        "\n",
        "\n",
        "# create a pipeline to tokenize, remove stop words, and do a TF-IDF transformation.\n",
        "pipe_senti_1 = Pipeline(stages = [tokenizer, stop_words_remover, cv, idf])\n"
      ],
      "execution_count": null,
      "outputs": []
    },
    {
      "cell_type": "code",
      "metadata": {
        "colab": {
          "base_uri": "https://localhost:8080/"
        },
        "id": "sLXIg6_hn8Rn",
        "outputId": "832816fc-c182-4c47-d432-1b625d90265a"
      },
      "source": [
        "# import original logistic regression model\n",
        "lr = LogisticRegression().setLabelCol(\"attitude\").setFeaturesCol(\"tf_idf\")\n",
        "lr_pipe = Pipeline(stages = [pipe_senti_1, lr])\n",
        "lr_fit = lr_pipe.fit(training_df)\n",
        "\n",
        "pipeline_model_1 = pipe_senti_1.fit(training_df)\n",
        "\n",
        "# Score the original model using ROC AUC\n",
        "evaluator = evaluation.BinaryClassificationEvaluator(labelCol = \"attitude\")\n",
        "lr_auc = evaluator.evaluate(lr_fit.transform(testing_df)) \n",
        "print(\"the resulting AUC is\", lr_auc, \"!!!\")"
      ],
      "execution_count": null,
      "outputs": [
        {
          "output_type": "stream",
          "text": [
            "the resulting AUC is 0.787123381667565 !!!\n"
          ],
          "name": "stdout"
        }
      ]
    },
    {
      "cell_type": "code",
      "metadata": {
        "id": "_nsxBrPv7nqe"
      },
      "source": [
        "# set enable_grid to True or False\n",
        "enable_grid = True"
      ],
      "execution_count": null,
      "outputs": []
    },
    {
      "cell_type": "code",
      "metadata": {
        "colab": {
          "base_uri": "https://localhost:8080/"
        },
        "id": "P2fAbhpSp0ph",
        "outputId": "58b6f0bc-b645-4abf-f1f1-217a183e2030"
      },
      "source": [
        "# improve the model\n",
        "from pyspark.ml.tuning import ParamGridBuilder\n",
        "\n",
        "# find the best model\n",
        "if enable_grid:\n",
        "    # grid search code\n",
        "    lr_pipe_1 = lr_pipe\n",
        "    grid = ParamGridBuilder().addGrid(lr.regParam, [0., 0.01, 0.02]).addGrid(lr.elasticNetParam, [0., 0.2, 0.4]).build()\n",
        "    all_models = []\n",
        "    for j in range(len(grid)):\n",
        "        print(\"Fitting model {}\".format(j+1))\n",
        "        model = lr_pipe_1.fit(training_df, grid[j])\n",
        "        all_models.append(model)\n",
        "    # estimate the accuracy of each of them:\n",
        "    accuracies = [m.\\\n",
        "        transform(validation_df).\\\n",
        "        select(fn.avg(fn.expr('float(attitude = prediction)')).alias('accuracy')).\\\n",
        "        first().\\\n",
        "        accuracy for m in all_models]\n",
        "\n",
        "    best_model_idx = np.argmax(accuracies)\n",
        "    print(\"best model index =\", best_model_idx)\n",
        "\n",
        "    print(grid[best_model_idx])\n",
        "    best_model = all_models[best_model_idx]\n",
        "    best_model.\\\n",
        "        transform(testing_df).\\\n",
        "        select(fn.avg(fn.expr('float(attitude = prediction)')).alias('accuracy')).\\\n",
        "        show() \n",
        "    pass"
      ],
      "execution_count": null,
      "outputs": [
        {
          "output_type": "stream",
          "text": [
            "Fitting model 1\n",
            "Fitting model 2\n",
            "Fitting model 3\n",
            "Fitting model 4\n",
            "Fitting model 5\n",
            "Fitting model 6\n",
            "Fitting model 7\n",
            "Fitting model 8\n",
            "Fitting model 9\n",
            "best model index = 4\n",
            "{Param(parent='LogisticRegression_5e4973e827d0', name='regParam', doc='regularization parameter (>= 0).'): 0.01, Param(parent='LogisticRegression_5e4973e827d0', name='elasticNetParam', doc='the ElasticNet mixing parameter, in range [0, 1]. For alpha = 0, the penalty is an L2 penalty. For alpha = 1, it is an L1 penalty.'): 0.2}\n",
            "+------------------+\n",
            "|          accuracy|\n",
            "+------------------+\n",
            "|0.9802164793619556|\n",
            "+------------------+\n",
            "\n"
          ],
          "name": "stdout"
        }
      ]
    },
    {
      "cell_type": "code",
      "metadata": {
        "colab": {
          "base_uri": "https://localhost:8080/",
          "height": 112
        },
        "id": "1_2_6O-ZqOvG",
        "outputId": "82dc5a1a-0438-4c44-e68b-49860e6e00b6"
      },
      "source": [
        "# compare the score of best model with the original one\n",
        "lambda_par = 0.01\n",
        "alpha_par = 0.2\n",
        "\n",
        "lr_2 = LogisticRegression().\\\n",
        "        setLabelCol('attitude').\\\n",
        "        setFeaturesCol('tf_idf').\\\n",
        "        setRegParam(lambda_par).\\\n",
        "        setMaxIter(100).\\\n",
        "        setElasticNetParam(alpha_par)\n",
        "\n",
        "lr_pipe_2 = Pipeline(stages = [pipe_senti_1, lr_2])\n",
        "lr_pipe_2_fit = lr_pipe_2.fit(training_df)\n",
        "lr_2_auc = evaluator.evaluate(lr_pipe_2_fit.transform(testing_df))\n",
        "\n",
        "compare_df = pd.DataFrame({\"model_name\" : [\"lr_pipe\", \"lr_pipe_2\"], \"auc_score\" : [lr_auc, lr_2_auc]})\n",
        "\n",
        "display(compare_df)"
      ],
      "execution_count": null,
      "outputs": [
        {
          "output_type": "display_data",
          "data": {
            "text/html": [
              "<div>\n",
              "<style scoped>\n",
              "    .dataframe tbody tr th:only-of-type {\n",
              "        vertical-align: middle;\n",
              "    }\n",
              "\n",
              "    .dataframe tbody tr th {\n",
              "        vertical-align: top;\n",
              "    }\n",
              "\n",
              "    .dataframe thead th {\n",
              "        text-align: right;\n",
              "    }\n",
              "</style>\n",
              "<table border=\"1\" class=\"dataframe\">\n",
              "  <thead>\n",
              "    <tr style=\"text-align: right;\">\n",
              "      <th></th>\n",
              "      <th>model_name</th>\n",
              "      <th>auc_score</th>\n",
              "    </tr>\n",
              "  </thead>\n",
              "  <tbody>\n",
              "    <tr>\n",
              "      <th>0</th>\n",
              "      <td>lr_pipe</td>\n",
              "      <td>0.787123</td>\n",
              "    </tr>\n",
              "    <tr>\n",
              "      <th>1</th>\n",
              "      <td>lr_pipe_2</td>\n",
              "      <td>0.909823</td>\n",
              "    </tr>\n",
              "  </tbody>\n",
              "</table>\n",
              "</div>"
            ],
            "text/plain": [
              "  model_name  auc_score\n",
              "0    lr_pipe   0.787123\n",
              "1  lr_pipe_2   0.909823"
            ]
          },
          "metadata": {
            "tags": []
          }
        }
      ]
    },
    {
      "cell_type": "code",
      "metadata": {
        "id": "48Uw0lIVqSBr"
      },
      "source": [
        "score_2 = lr_pipe_2_fit.stages[-1].coefficients.toArray()\n",
        "vocab_list_2 = lr_pipe_2_fit.stages[0].stages[-2].vocabulary\n",
        "lr_pipe_df_2 = pd.DataFrame({\"word\" : vocab_list_2, \"score\" : score_2})\n",
        "\n",
        "# The 10 most negative words are:\n",
        "lr_pipe_df_neg_1  = lr_pipe_df_2.sort_values(by = \"score\")[:10].reset_index(drop = True)\n",
        "# The 10 most positive words are:\n",
        "lr_pipe_df_pos_1 = lr_pipe_df_2.sort_values(by = \"score\", ascending = False)[:10].reset_index(drop = True)"
      ],
      "execution_count": null,
      "outputs": []
    },
    {
      "cell_type": "code",
      "metadata": {
        "colab": {
          "base_uri": "https://localhost:8080/",
          "height": 709
        },
        "id": "4SrPLvSDqYYa",
        "outputId": "15d450b3-909d-4a4a-d6c7-3b8bac9380b6"
      },
      "source": [
        "# The 10 most negative words:\n",
        "display(lr_pipe_df_neg_1)\n",
        "# The 10 most positive words:\n",
        "display(lr_pipe_df_pos_1)"
      ],
      "execution_count": null,
      "outputs": [
        {
          "output_type": "display_data",
          "data": {
            "text/html": [
              "<div>\n",
              "<style scoped>\n",
              "    .dataframe tbody tr th:only-of-type {\n",
              "        vertical-align: middle;\n",
              "    }\n",
              "\n",
              "    .dataframe tbody tr th {\n",
              "        vertical-align: top;\n",
              "    }\n",
              "\n",
              "    .dataframe thead th {\n",
              "        text-align: right;\n",
              "    }\n",
              "</style>\n",
              "<table border=\"1\" class=\"dataframe\">\n",
              "  <thead>\n",
              "    <tr style=\"text-align: right;\">\n",
              "      <th></th>\n",
              "      <th>word</th>\n",
              "      <th>score</th>\n",
              "    </tr>\n",
              "  </thead>\n",
              "  <tbody>\n",
              "    <tr>\n",
              "      <th>0</th>\n",
              "      <td>unflattering</td>\n",
              "      <td>-0.287943</td>\n",
              "    </tr>\n",
              "    <tr>\n",
              "      <th>1</th>\n",
              "      <td>disappointed</td>\n",
              "      <td>-0.266987</td>\n",
              "    </tr>\n",
              "    <tr>\n",
              "      <th>2</th>\n",
              "      <td>awful</td>\n",
              "      <td>-0.224330</td>\n",
              "    </tr>\n",
              "    <tr>\n",
              "      <th>3</th>\n",
              "      <td>ridiculous</td>\n",
              "      <td>-0.208293</td>\n",
              "    </tr>\n",
              "    <tr>\n",
              "      <th>4</th>\n",
              "      <td>disappointing</td>\n",
              "      <td>-0.205993</td>\n",
              "    </tr>\n",
              "    <tr>\n",
              "      <th>5</th>\n",
              "      <td>cheap</td>\n",
              "      <td>-0.182909</td>\n",
              "    </tr>\n",
              "    <tr>\n",
              "      <th>6</th>\n",
              "      <td>returned</td>\n",
              "      <td>-0.181447</td>\n",
              "    </tr>\n",
              "    <tr>\n",
              "      <th>7</th>\n",
              "      <td>linebacker</td>\n",
              "      <td>-0.180583</td>\n",
              "    </tr>\n",
              "    <tr>\n",
              "      <th>8</th>\n",
              "      <td>unfortunately</td>\n",
              "      <td>-0.174893</td>\n",
              "    </tr>\n",
              "    <tr>\n",
              "      <th>9</th>\n",
              "      <td>way</td>\n",
              "      <td>-0.174409</td>\n",
              "    </tr>\n",
              "  </tbody>\n",
              "</table>\n",
              "</div>"
            ],
            "text/plain": [
              "            word     score\n",
              "0   unflattering -0.287943\n",
              "1   disappointed -0.266987\n",
              "2          awful -0.224330\n",
              "3     ridiculous -0.208293\n",
              "4  disappointing -0.205993\n",
              "5          cheap -0.182909\n",
              "6       returned -0.181447\n",
              "7     linebacker -0.180583\n",
              "8  unfortunately -0.174893\n",
              "9            way -0.174409"
            ]
          },
          "metadata": {
            "tags": []
          }
        },
        {
          "output_type": "display_data",
          "data": {
            "text/html": [
              "<div>\n",
              "<style scoped>\n",
              "    .dataframe tbody tr th:only-of-type {\n",
              "        vertical-align: middle;\n",
              "    }\n",
              "\n",
              "    .dataframe tbody tr th {\n",
              "        vertical-align: top;\n",
              "    }\n",
              "\n",
              "    .dataframe thead th {\n",
              "        text-align: right;\n",
              "    }\n",
              "</style>\n",
              "<table border=\"1\" class=\"dataframe\">\n",
              "  <thead>\n",
              "    <tr style=\"text-align: right;\">\n",
              "      <th></th>\n",
              "      <th>word</th>\n",
              "      <th>score</th>\n",
              "    </tr>\n",
              "  </thead>\n",
              "  <tbody>\n",
              "    <tr>\n",
              "      <th>0</th>\n",
              "      <td>compliments</td>\n",
              "      <td>0.418912</td>\n",
              "    </tr>\n",
              "    <tr>\n",
              "      <th>1</th>\n",
              "      <td>comfortable</td>\n",
              "      <td>0.351355</td>\n",
              "    </tr>\n",
              "    <tr>\n",
              "      <th>2</th>\n",
              "      <td>perfect</td>\n",
              "      <td>0.324392</td>\n",
              "    </tr>\n",
              "    <tr>\n",
              "      <th>3</th>\n",
              "      <td>wore</td>\n",
              "      <td>0.279257</td>\n",
              "    </tr>\n",
              "    <tr>\n",
              "      <th>4</th>\n",
              "      <td>loved</td>\n",
              "      <td>0.232826</td>\n",
              "    </tr>\n",
              "    <tr>\n",
              "      <th>5</th>\n",
              "      <td>great</td>\n",
              "      <td>0.213506</td>\n",
              "    </tr>\n",
              "    <tr>\n",
              "      <th>6</th>\n",
              "      <td>little</td>\n",
              "      <td>0.204051</td>\n",
              "    </tr>\n",
              "    <tr>\n",
              "      <th>7</th>\n",
              "      <td>true</td>\n",
              "      <td>0.105880</td>\n",
              "    </tr>\n",
              "    <tr>\n",
              "      <th>8</th>\n",
              "      <td>perfectly</td>\n",
              "      <td>0.104809</td>\n",
              "    </tr>\n",
              "    <tr>\n",
              "      <th>9</th>\n",
              "      <td>bit</td>\n",
              "      <td>0.102677</td>\n",
              "    </tr>\n",
              "  </tbody>\n",
              "</table>\n",
              "</div>"
            ],
            "text/plain": [
              "          word     score\n",
              "0  compliments  0.418912\n",
              "1  comfortable  0.351355\n",
              "2      perfect  0.324392\n",
              "3         wore  0.279257\n",
              "4        loved  0.232826\n",
              "5        great  0.213506\n",
              "6       little  0.204051\n",
              "7         true  0.105880\n",
              "8    perfectly  0.104809\n",
              "9          bit  0.102677"
            ]
          },
          "metadata": {
            "tags": []
          }
        }
      ]
    },
    {
      "cell_type": "code",
      "metadata": {
        "colab": {
          "base_uri": "https://localhost:8080/",
          "height": 313
        },
        "id": "1LR1CosuqZnu",
        "outputId": "f8b32502-c6d7-4619-c468-d06d9a465ea7"
      },
      "source": [
        "# ROC curve\n",
        "ROC_df = lr_pipe_2_fit.stages[-1].summary.roc.select(\"FPR\",\"TPR\").toPandas()\n",
        "\n",
        "plt.plot([0, 1], [0, 1], \"r--\", label = \"Random\")\n",
        "plt.plot(ROC_df.FPR, ROC_df.TPR, label = \"ROC Curve\")\n",
        "plt.xlabel(\"False Positive Rate\")\n",
        "plt.ylabel(\"True Positive Rate\")\n",
        "plt.title(\"ROC Curve of The Best Model\")\n",
        "plt.legend(loc = \"lower right\")"
      ],
      "execution_count": null,
      "outputs": [
        {
          "output_type": "execute_result",
          "data": {
            "text/plain": [
              "<matplotlib.legend.Legend at 0x7fa9479a1eb8>"
            ]
          },
          "metadata": {
            "tags": []
          },
          "execution_count": 27
        },
        {
          "output_type": "display_data",
          "data": {
            "image/png": "[encoded data removed]",
            "text/plain": [
              "<Figure size 432x288 with 1 Axes>"
            ]
          },
          "metadata": {
            "tags": [],
            "needs_background": "light"
          }
        }
      ]
    },
    {
      "cell_type": "code",
      "metadata": {
        "colab": {
          "base_uri": "https://localhost:8080/",
          "height": 313
        },
        "id": "7Dvwl7tyqcNk",
        "outputId": "3f83acda-f000-472b-9925-79fbda7248da"
      },
      "source": [
        "# PR curve\n",
        "PR_df = lr_pipe_2_fit.stages[-1].summary.pr.select(\"Recall\", \"Precision\").toPandas()\n",
        "\n",
        "plt.plot(PR_df.Recall, PR_df.Precision, label = \"PR Curve\")\n",
        "plt.xlabel(\"Recall\")\n",
        "plt.ylabel(\"Precision\")\n",
        "plt.title(\"PR Curve of The Best Model\")\n",
        "plt.legend(loc = \"lower left\")"
      ],
      "execution_count": null,
      "outputs": [
        {
          "output_type": "execute_result",
          "data": {
            "text/plain": [
              "<matplotlib.legend.Legend at 0x7fa9478fac88>"
            ]
          },
          "metadata": {
            "tags": []
          },
          "execution_count": 28
        },
        {
          "output_type": "display_data",
          "data": {
            "image/png": "[encoded data removed]",
            "text/plain": [
              "<Figure size 432x288 with 1 Axes>"
            ]
          },
          "metadata": {
            "tags": [],
            "needs_background": "light"
          }
        }
      ]
    },
    {
      "cell_type": "markdown",
      "metadata": {
        "id": "_7NoZ2QFkrta"
      },
      "source": [
        "# Part 3: Products with High Rating Analysis"
      ]
    },
    {
      "cell_type": "code",
      "metadata": {
        "id": "wN0LriXL3eHx"
      },
      "source": [
        "## prediction 2\n",
        "# remove irrelevent columns\n",
        "df2=data_df.drop(\"review_summary\",\"review_text\")\n",
        "\n",
        "# define function to extract distinct value of each column as a list\n",
        "def extract_list(columnname):\n",
        "  temp=df2.select(columnname).distinct().collect()\n",
        "  temp=[str(row[0])for row in temp]\n",
        "  return temp\n",
        "body_type=extract_list(\"body_type\")\n",
        "bust_size=extract_list(\"bust_size\")\n",
        "category=extract_list(\"category\")\n",
        "fit=extract_list(\"fit\")\n",
        "rented_for=extract_list(\"rented_for\")\n",
        "\n",
        "# reformat rating column\n",
        "df2=df2.withColumn(\"new_rating\",when(col('rating')< 6, \"low\").when(col('rating')==6,\"medium\").otherwise('high')).drop('rating')\n",
        "rating=df2.select(\"new_rating\").distinct().collect()\n",
        "rating=[str(row[0])for row in rating]"
      ],
      "execution_count": null,
      "outputs": []
    },
    {
      "cell_type": "code",
      "metadata": {
        "id": "yyi-APibadFc",
        "colab": {
          "base_uri": "https://localhost:8080/"
        },
        "outputId": "7102ad56-ccb9-4ec6-f044-ea13345379e9"
      },
      "source": [
        "print(rating)\n",
        "print(fit)\n",
        "print(body_type)"
      ],
      "execution_count": null,
      "outputs": [
        {
          "output_type": "stream",
          "text": [
            "['low', 'high', 'medium']\n",
            "['small', 'fit', 'large']\n",
            "['athletic', 'full bust', 'apple', 'pear', 'petite', 'straight & narrow', 'hourglass']\n"
          ],
          "name": "stdout"
        }
      ]
    },
    {
      "cell_type": "code",
      "metadata": {
        "id": "F81Vh6n13wJh"
      },
      "source": [
        "# build a pipeline\n",
        "feature_pipe1=Pipeline(stages=[feature.StringIndexerModel.from_labels(body_type, inputCol=\"body_type\",outputCol=\"body_id\"),\n",
        "                              feature.StringIndexerModel.from_labels(fit, inputCol=\"fit\",outputCol=\"fit_id\"),\n",
        "                              feature.StringIndexerModel.from_labels(rating, inputCol=\"new_rating\",outputCol=\"new_rating_id\"),\n",
        "                              feature.StringIndexerModel.from_labels(rented_for, inputCol=\"rented_for\",outputCol=\"rented_id\"),\n",
        "                              feature.VectorAssembler(inputCols=['age', 'body_id','fit_id', 'rented_id','weights','heights'], outputCol='total_features')\n",
        "                      ])"
      ],
      "execution_count": null,
      "outputs": []
    },
    {
      "cell_type": "code",
      "metadata": {
        "id": "lIOlW_V_CPZC"
      },
      "source": [
        "# fit and transform\n",
        "df2_featured=feature_pipe1.fit(df2).transform(df2)"
      ],
      "execution_count": null,
      "outputs": []
    },
    {
      "cell_type": "code",
      "metadata": {
        "id": "GX4IFFKoXWau"
      },
      "source": [
        "# split into training, test and validation dataset\n",
        "(trainingData,testData,validationData) = df2_featured.randomSplit([0.6,0.3,0.1])"
      ],
      "execution_count": null,
      "outputs": []
    },
    {
      "cell_type": "code",
      "metadata": {
        "colab": {
          "base_uri": "https://localhost:8080/"
        },
        "id": "OCWqWEn-Jo6j",
        "outputId": "239f4d89-d6f8-45a0-cc05-c523567ac2e3"
      },
      "source": [
        "# tune parameters and find the maximum F-measure score\n",
        "rf=RandomForestClassifier(labelCol=\"new_rating_id\",featuresCol=\"total_features\")\n",
        "paramGrid = ParamGridBuilder().addGrid(rf.numTrees, [6,7,8]).addGrid(rf.maxDepth, [5,6,7]).build()\n",
        "all_models = []\n",
        "rf_evaluator = mce(labelCol=\"new_rating_id\", predictionCol=\"prediction\",metricName=\"f1\")\n",
        "all_f=[]\n",
        "for j in range(len(paramGrid)):\n",
        "  rf_model = rf.fit(trainingData, paramGrid[j])\n",
        "  all_models.append(rf_model)\n",
        "  f1 = rf_evaluator.evaluate(rf_model.transform(validationData))\n",
        "  all_f.append(f1)\n",
        "best_model_idx = all_f.index(max(all_f))\n",
        "best_model = all_models[best_model_idx]\n",
        "print(\"The maximum F-measure score is \",max(all_f))"
      ],
      "execution_count": null,
      "outputs": [
        {
          "output_type": "stream",
          "text": [
            "The maximum F-measure score is  0.8904635081254152\n"
          ],
          "name": "stdout"
        }
      ]
    },
    {
      "cell_type": "code",
      "metadata": {
        "colab": {
          "base_uri": "https://localhost:8080/"
        },
        "id": "xtK2HQ-gvKq8",
        "outputId": "feb231e8-4227-4d82-ef80-3bf02338df24"
      },
      "source": [
        "# use the parameter set above train and test data\n",
        "max_depth=best_model.getOrDefault('maxDepth')\n",
        "numtrees=best_model.getOrDefault('numTrees')\n",
        "best_rf=RandomForestClassifier(labelCol=\"new_rating_id\",featuresCol=\"total_features\",maxDepth=max_depth,numTrees=numtrees)\n",
        "best_rf_model=best_rf.fit(trainingData)\n",
        "rf_evaluator.evaluate(best_rf_model.transform(testData))"
      ],
      "execution_count": null,
      "outputs": [
        {
          "output_type": "execute_result",
          "data": {
            "text/plain": [
              "0.8869648978351903"
            ]
          },
          "metadata": {
            "tags": []
          },
          "execution_count": 35
        }
      ]
    },
    {
      "cell_type": "code",
      "metadata": {
        "colab": {
          "base_uri": "https://localhost:8080/"
        },
        "id": "Kk0pjQ_JhfMi",
        "outputId": "4a1f59b6-19b2-4fed-c378-9e74ba79b66a"
      },
      "source": [
        "# print the tree structure\n",
        "print(best_rf_model.toDebugString)"
      ],
      "execution_count": null,
      "outputs": [
        {
          "output_type": "stream",
          "text": [
            "RandomForestClassificationModel: uid=RandomForestClassifier_13386663c477, numTrees=6, numClasses=3, numFeatures=6\n",
            "  Tree 0 (weight 1.0):\n",
            "    If (feature 3 in {1.0,2.0,4.0})\n",
            "     If (feature 0 <= 29.5)\n",
            "      If (feature 2 in {1.0})\n",
            "       Predict: 1.0\n",
            "      Else (feature 2 not in {1.0})\n",
            "       If (feature 1 in {0.0,2.0,5.0,6.0})\n",
            "        Predict: 1.0\n",
            "       Else (feature 1 not in {0.0,2.0,5.0,6.0})\n",
            "        If (feature 5 <= 179.07)\n",
            "         Predict: 1.0\n",
            "        Else (feature 5 > 179.07)\n",
            "         Predict: 0.0\n",
            "     Else (feature 0 > 29.5)\n",
            "      Predict: 1.0\n",
            "    Else (feature 3 not in {1.0,2.0,4.0})\n",
            "     Predict: 1.0\n",
            "  Tree 1 (weight 1.0):\n",
            "    If (feature 0 <= 27.5)\n",
            "     If (feature 2 in {1.0})\n",
            "      Predict: 1.0\n",
            "     Else (feature 2 not in {1.0})\n",
            "      If (feature 4 <= 108.5)\n",
            "       If (feature 2 in {0.0})\n",
            "        Predict: 1.0\n",
            "       Else (feature 2 not in {0.0})\n",
            "        If (feature 0 <= 26.5)\n",
            "         Predict: 1.0\n",
            "        Else (feature 0 > 26.5)\n",
            "         Predict: 2.0\n",
            "      Else (feature 4 > 108.5)\n",
            "       Predict: 1.0\n",
            "    Else (feature 0 > 27.5)\n",
            "     Predict: 1.0\n",
            "  Tree 2 (weight 1.0):\n",
            "    Predict: 1.0\n",
            "  Tree 3 (weight 1.0):\n",
            "    If (feature 2 in {1.0})\n",
            "     Predict: 1.0\n",
            "    Else (feature 2 not in {1.0})\n",
            "     If (feature 4 <= 108.5)\n",
            "      If (feature 2 in {0.0})\n",
            "       If (feature 3 in {0.0,1.0,2.0,4.0,5.0,6.0,8.0})\n",
            "        Predict: 1.0\n",
            "       Else (feature 3 not in {0.0,1.0,2.0,4.0,5.0,6.0,8.0})\n",
            "        If (feature 0 <= 38.5)\n",
            "         Predict: 2.0\n",
            "        Else (feature 0 > 38.5)\n",
            "         Predict: 1.0\n",
            "      Else (feature 2 not in {0.0})\n",
            "       If (feature 0 <= 47.5)\n",
            "        Predict: 1.0\n",
            "       Else (feature 0 > 47.5)\n",
            "        If (feature 0 <= 60.5)\n",
            "         Predict: 1.0\n",
            "        Else (feature 0 > 60.5)\n",
            "         Predict: 2.0\n",
            "     Else (feature 4 > 108.5)\n",
            "      Predict: 1.0\n",
            "  Tree 4 (weight 1.0):\n",
            "    If (feature 2 in {1.0})\n",
            "     Predict: 1.0\n",
            "    Else (feature 2 not in {1.0})\n",
            "     If (feature 3 in {1.0,2.0,4.0})\n",
            "      Predict: 1.0\n",
            "     Else (feature 3 not in {1.0,2.0,4.0})\n",
            "      If (feature 0 <= 27.5)\n",
            "       Predict: 1.0\n",
            "      Else (feature 0 > 27.5)\n",
            "       If (feature 5 <= 184.14999999999998)\n",
            "        Predict: 1.0\n",
            "       Else (feature 5 > 184.14999999999998)\n",
            "        If (feature 1 in {1.0})\n",
            "         Predict: 0.0\n",
            "        Else (feature 1 not in {1.0})\n",
            "         Predict: 1.0\n",
            "  Tree 5 (weight 1.0):\n",
            "    Predict: 1.0\n",
            "\n"
          ],
          "name": "stdout"
        }
      ]
    },
    {
      "cell_type": "code",
      "metadata": {
        "id": "Nc-6d4txc0JS"
      },
      "source": [
        "# extract feature\n",
        "features = []\n",
        "for i in range(6):\n",
        "  features.append(best_rf_model.featureImportances[i])\n",
        "imp_feature = pd.DataFrame({'features':['age', 'body_type','fit', 'rented_for','weights','heights'],\\\n",
        "                            'importances':features})"
      ],
      "execution_count": null,
      "outputs": []
    },
    {
      "cell_type": "code",
      "metadata": {
        "id": "uDSGpxqVcB6W",
        "colab": {
          "base_uri": "https://localhost:8080/",
          "height": 314
        },
        "outputId": "f908b38b-5911-486c-96ff-7911a3ad8f20"
      },
      "source": [
        "# feature importance plot \n",
        "ax=imp_feature.plot(x='features',kind='barh',title='Feature Importance')\n",
        "ax.set_xlabel(\"Importance_score\")\n",
        "ax.set_ylabel(\"Feature_name\")"
      ],
      "execution_count": null,
      "outputs": [
        {
          "output_type": "execute_result",
          "data": {
            "text/plain": [
              "Text(0, 0.5, 'Feature_name')"
            ]
          },
          "metadata": {
            "tags": []
          },
          "execution_count": 38
        },
        {
          "output_type": "display_data",
          "data": {
            "image/png": "[encoded data removed]",
            "text/plain": [
              "<Figure size 432x288 with 1 Axes>"
            ]
          },
          "metadata": {
            "tags": [],
            "needs_background": "light"
          }
        }
      ]
    },
    {
      "cell_type": "markdown",
      "metadata": {
        "id": "kuGVwVI3lAKy"
      },
      "source": [
        "# Part 4: Recommendation Analysis"
      ]
    },
    {
      "cell_type": "code",
      "metadata": {
        "id": "4VpXtofh603v"
      },
      "source": [
        "## prediction 3\n",
        "# extract useful columns from main dataframe\n",
        "df4=data_df.where(col('fit')== 'fit').where(col('rating')==10)\n",
        "df4=df4.select(concat_ws('_',df4.body_type,df4.bust_size,df4.category).alias('full'),'review_summary')\n",
        "df4=df4.select('*',lower(col('review_summary'))).drop('review_summary').select(col('lower(review_summary)').alias('review_summary'),col('full'))"
      ],
      "execution_count": null,
      "outputs": []
    },
    {
      "cell_type": "code",
      "metadata": {
        "id": "Te9YgRlIycYP"
      },
      "source": [
        "# create a pipeline including tokenization, stopwordsfilter, TF-IDF, standardscaler and PCA\n",
        "quotes_tokenizer = RegexTokenizer(minTokenLength=2).setGaps(False).setPattern(\"\\\\p{L}+\").setInputCol(\"review_summary\").setOutputCol(\"words\")\n",
        "#stop words\n",
        "stop_words = requests.get('http://ir.dcs.gla.ac.uk/resources/linguistic_utils/stop_words').text.split()\n",
        "stopwords_filter = StopWordsRemover().setStopWords(stop_words).setCaseSensitive(False).setInputCol(\"words\").setOutputCol(\"filtered\")\n",
        "#TF\n",
        "cv = CountVectorizer(minDF=5.).setInputCol(\"filtered\").setOutputCol(\"tf\")\n",
        "#IDF\n",
        "idf = IDF().setInputCol('tf').setOutputCol('tfidf')\n",
        "pipe_pca_1=Pipeline(stages=[quotes_tokenizer,stopwords_filter,cv,idf,feature.StandardScaler(withMean=True,withStd=False,inputCol='tfidf',outputCol='centered_tfidf'),feature.PCA(k=2, inputCol='centered_tfidf', outputCol='scores')]).fit(df4)\n",
        "chars_pca_df=pipe_pca_1.transform(df4)"
      ],
      "execution_count": null,
      "outputs": []
    },
    {
      "cell_type": "code",
      "metadata": {
        "id": "lA_dUkOb4CHd",
        "colab": {
          "base_uri": "https://localhost:8080/"
        },
        "outputId": "6b4164bf-3b7e-44e2-efcf-aa2957078749"
      },
      "source": [
        "# show the result \n",
        "chars_pca_df.show(10)"
      ],
      "execution_count": null,
      "outputs": [
        {
          "output_type": "stream",
          "text": [
            "+--------------------+--------------------+--------------------+--------------------+--------------------+--------------------+--------------------+--------------------+\n",
            "|      review_summary|                full|               words|            filtered|                  tf|               tfidf|      centered_tfidf|              scores|\n",
            "+--------------------+--------------------+--------------------+--------------------+--------------------+--------------------+--------------------+--------------------+\n",
            "|so many compliments!|hourglass_34d_romper|[so, many, compli...|       [compliments]|    (2631,[2],[1.0])|(2631,[2],[2.1323...|[-0.3742438582896...|[0.92503906745823...|\n",
            "|i felt so glamour...|straight & narrow...|[felt, so, glamou...|  [felt, glamourous]|(2631,[17,930],[1...|(2631,[17,930],[3...|[-0.3742438582896...|[0.07499105501136...|\n",
            "|was in love with ...|   athletic_34b_gown|[was, in, love, w...|       [love, dress]|(2631,[0,12],[1.0...|(2631,[0,12],[0.8...|[0.48540302107847...|[-0.7512890028055...|\n",
            "|literally the cut...| hourglass_34c_dress|[literally, the, ...|[literally, cutes...|(2631,[0,520,866]...|(2631,[0,520,866]...|[0.48540302107847...|[-0.3231305404607...|\n",
            "|great dress, beau...|full bust_34d+_dress|[great, dress, be...|[great, dress, be...|(2631,[0,2,3,19,4...|(2631,[0,2,3,19,4...|[0.48540302107847...|[2.83131801466036...|\n",
            "|great for black t...|  full bust_36d_gown|[great, for, blac...|[great, black, ti...|(2631,[3,27,31,39...|(2631,[3,27,31,39...|[-0.3742438582896...|[-0.3081421968491...|\n",
            "|this dress was ev...|     petite_32b_gown|[this, dress, was...|[dress, perfect, ...|(2631,[0,1,65,199...|(2631,[0,1,65,199...|[0.48540302107847...|[-0.3239970675208...|\n",
            "|this dress made m...|straight & narrow...|[this, dress, mad...|[dress, feel, con...|(2631,[0,23,52,18...|(2631,[0,23,52,18...|[0.48540302107847...|[-0.3481067533972...|\n",
            "|stunning gown. wo...|   athletic_34b_gown|[stunning, gown, ...|[stunning, gown, ...|(2631,[2,9,13,19,...|(2631,[2,9,13,19,...|[-0.3742438582896...|[3.37603937033891...|\n",
            "|these leggings ar...|hourglass_34c_leg...|[these, leggings,...| [leggings, awesome]|(2631,[64,798],[1...|(2631,[64,798],[4...|[-0.3742438582896...|[-0.4252714012698...|\n",
            "+--------------------+--------------------+--------------------+--------------------+--------------------+--------------------+--------------------+--------------------+\n",
            "only showing top 10 rows\n",
            "\n"
          ],
          "name": "stdout"
        }
      ]
    },
    {
      "cell_type": "code",
      "metadata": {
        "id": "FcSLuxMf42Dx",
        "colab": {
          "base_uri": "https://localhost:8080/"
        },
        "outputId": "541a5d01-2178-4979-f5ca-2f77a340e75a"
      },
      "source": [
        "# define function to compute distance \n",
        "def l2_dist(c1, c2):    \n",
        "    return float(np.sqrt((c1 - c2).T.dot((c1 - c2))))\n",
        "l2_dist_udf = fn.udf(l2_dist, types.FloatType())\n",
        "spark.sql(\"SET spark.sql.crossJoin.enabled=TRUE\")"
      ],
      "execution_count": null,
      "outputs": [
        {
          "output_type": "execute_result",
          "data": {
            "text/plain": [
              "DataFrame[key: string, value: string]"
            ]
          },
          "metadata": {
            "tags": []
          },
          "execution_count": 42
        }
      ]
    },
    {
      "cell_type": "code",
      "metadata": {
        "id": "Sq50Ap-ZK9mA"
      },
      "source": [
        "# train a k-means model.\n",
        "evaluator = ClusteringEvaluator().setFeaturesCol(\"scores\").setPredictionCol(\"prediction\").setMetricName(\"silhouette\")\n",
        "scores=[]\n",
        "k=[]\n",
        "for i in range(2,4):\n",
        "  k.append(i)\n",
        "  kmeans = KMeans().setK(i).setFeaturesCol(\"scores\").setPredictionCol(\"prediction\")\n",
        "  model = kmeans.fit(chars_pca_df)\n",
        "# Make predictions\n",
        "  predictions = model.transform(chars_pca_df)\n",
        "# Evaluate clustering by computing Silhouette score\n",
        "  score=evaluator.evaluate(predictions)\n",
        "  scores.append(score)"
      ],
      "execution_count": null,
      "outputs": []
    },
    {
      "cell_type": "code",
      "metadata": {
        "id": "LgLV8_5q1pSm",
        "colab": {
          "base_uri": "https://localhost:8080/",
          "height": 313
        },
        "outputId": "ffe9cf42-04ef-4576-8a4b-a7d9d5fa8fcc"
      },
      "source": [
        "# plot the data\n",
        "plt.figure()\n",
        "plt.plot(k, scores)\n",
        "plt.title(\"silhouette score vs K\")\n",
        "plt.xlabel(\"K\")\n",
        "plt.ylabel(\"silhouette score\")\n",
        "print('The highest silhouette score is',max(scores),'and its K is',k[scores.index(max(scores))])"
      ],
      "execution_count": null,
      "outputs": [
        {
          "output_type": "stream",
          "text": [
            "The highest silhouette score is 0.7734599744302263 and its K is 2\n"
          ],
          "name": "stdout"
        },
        {
          "output_type": "display_data",
          "data": {
            "image/png": "[encoded data removed]",
            "text/plain": [
              "<Figure size 432x288 with 1 Axes>"
            ]
          },
          "metadata": {
            "tags": [],
            "needs_background": "light"
          }
        }
      ]
    },
    {
      "cell_type": "code",
      "metadata": {
        "id": "XkOPUXbB3A41"
      },
      "source": [
        "# perform K-Means clustering using k=3\n",
        "kmeans = KMeans().setK(3).setFeaturesCol(\"scores\").setPredictionCol(\"prediction\")\n",
        "model = kmeans.fit(chars_pca_df)\n",
        "predictions = model.transform(chars_pca_df)\n",
        "PCAscores = np.array(predictions.select('scores').rdd.map(lambda x: x['scores']).collect())\n",
        "loadings = pipe_pca_1.stages[-1].pc.toArray()\n",
        "k_list=predictions.select('prediction').collect()\n",
        "k_list=[int(row.prediction)for row in k_list]"
      ],
      "execution_count": null,
      "outputs": []
    },
    {
      "cell_type": "code",
      "metadata": {
        "id": "SU1eIbSi3T7a",
        "colab": {
          "base_uri": "https://localhost:8080/",
          "height": 295
        },
        "outputId": "6c45d50e-d182-4ffe-9ea8-f1fe832c5423"
      },
      "source": [
        "# plot the cluster result\n",
        "xs = PCAscores[:,0]\n",
        "ys = PCAscores[:,1]\n",
        "n = loadings.shape[0]\n",
        "scalex = 1.0/(xs.max() - xs.min())\n",
        "scaley = 1.0/(ys.max() - ys.min())\n",
        "    \n",
        "x = xs * scalex\n",
        "y = ys * scaley\n",
        "fig,ax = plt.subplots()\n",
        "sc = plt.scatter(x, y,c=k_list)\n",
        "legend1 = ax.legend(*sc.legend_elements(),\n",
        "                  loc=\"lower right\", title=\"Classes\")\n",
        "ax.add_artist(legend1)\n",
        "plt.xlim(-1,1)\n",
        "plt.ylim(-1,1)\n",
        "plt.xlabel(\"PC{}\".format(1))\n",
        "plt.ylabel(\"PC{}\".format(2))\n",
        "plt.title(\"cluster result\")\n",
        "plt.grid()"
      ],
      "execution_count": null,
      "outputs": [
        {
          "output_type": "display_data",
          "data": {
            "image/png": "[encoded data removed]",
            "text/plain": [
              "<Figure size 432x288 with 1 Axes>"
            ]
          },
          "metadata": {
            "tags": [],
            "needs_background": "light"
          }
        }
      ]
    },
    {
      "cell_type": "code",
      "metadata": {
        "id": "hJA29_QHCxnI"
      },
      "source": [
        "# create three different clusters\n",
        "cluster_0=predictions.select('full','prediction').where(col('prediction')==0).groupBy('full').count().sort('count',ascending=False)\n",
        "cluster_1=predictions.select('full','prediction').where(col('prediction')==1).groupBy('full').count().sort('count',ascending=False)\n",
        "cluster_2=predictions.select('full','prediction').where(col('prediction')==2).groupBy('full').count().sort('count',ascending=False)"
      ],
      "execution_count": null,
      "outputs": []
    },
    {
      "cell_type": "code",
      "metadata": {
        "id": "Zotab3W4Yce_",
        "colab": {
          "base_uri": "https://localhost:8080/"
        },
        "outputId": "16382602-b05e-4fdd-b917-8807ee77353d"
      },
      "source": [
        "# the result of previous action\n",
        "cluster_0.show(10)"
      ],
      "execution_count": null,
      "outputs": [
        {
          "output_type": "stream",
          "text": [
            "+-------------------+-----+\n",
            "|               full|count|\n",
            "+-------------------+-----+\n",
            "|hourglass_44f_dress|  286|\n",
            "| hourglass_44f_gown|  237|\n",
            "| athletic_34b_dress|  220|\n",
            "|hourglass_34c_dress|  212|\n",
            "|hourglass_34d_dress|  211|\n",
            "|  athletic_34b_gown|  194|\n",
            "| athletic_34c_dress|  193|\n",
            "| hourglass_34d_gown|  183|\n",
            "| hourglass_34c_gown|  178|\n",
            "|hourglass_34b_dress|  157|\n",
            "+-------------------+-----+\n",
            "only showing top 10 rows\n",
            "\n"
          ],
          "name": "stdout"
        }
      ]
    },
    {
      "cell_type": "code",
      "metadata": {
        "id": "p0UIkJjxbMG1"
      },
      "source": [
        "# extract several examples from clusters\n",
        "cluster_0_pd=cluster_0.toPandas().rename(columns={'full':'cluster0'}).iloc[[1,3,4],]\n",
        "cluster_1_pd=cluster_1.toPandas().rename(columns={'full':'cluster1'}).head(3)\n",
        "cluster_2_pd=cluster_2.toPandas().rename(columns={'full':'cluster2'}).iloc[[7,8,18],]"
      ],
      "execution_count": null,
      "outputs": []
    },
    {
      "cell_type": "code",
      "metadata": {
        "id": "OF2AY6uKcw2f",
        "colab": {
          "base_uri": "https://localhost:8080/",
          "height": 396
        },
        "outputId": "0085d584-6006-4e74-a0f5-dde5b63e493e"
      },
      "source": [
        "# show the result of previous action\n",
        "display(cluster_0_pd)\n",
        "display(cluster_1_pd)\n",
        "display(cluster_2_pd)"
      ],
      "execution_count": null,
      "outputs": [
        {
          "output_type": "display_data",
          "data": {
            "text/html": [
              "<div>\n",
              "<style scoped>\n",
              "    .dataframe tbody tr th:only-of-type {\n",
              "        vertical-align: middle;\n",
              "    }\n",
              "\n",
              "    .dataframe tbody tr th {\n",
              "        vertical-align: top;\n",
              "    }\n",
              "\n",
              "    .dataframe thead th {\n",
              "        text-align: right;\n",
              "    }\n",
              "</style>\n",
              "<table border=\"1\" class=\"dataframe\">\n",
              "  <thead>\n",
              "    <tr style=\"text-align: right;\">\n",
              "      <th></th>\n",
              "      <th>cluster0</th>\n",
              "      <th>count</th>\n",
              "    </tr>\n",
              "  </thead>\n",
              "  <tbody>\n",
              "    <tr>\n",
              "      <th>1</th>\n",
              "      <td>hourglass_44f_gown</td>\n",
              "      <td>237</td>\n",
              "    </tr>\n",
              "    <tr>\n",
              "      <th>3</th>\n",
              "      <td>hourglass_34c_dress</td>\n",
              "      <td>212</td>\n",
              "    </tr>\n",
              "    <tr>\n",
              "      <th>4</th>\n",
              "      <td>hourglass_34d_dress</td>\n",
              "      <td>211</td>\n",
              "    </tr>\n",
              "  </tbody>\n",
              "</table>\n",
              "</div>"
            ],
            "text/plain": [
              "              cluster0  count\n",
              "1   hourglass_44f_gown    237\n",
              "3  hourglass_34c_dress    212\n",
              "4  hourglass_34d_dress    211"
            ]
          },
          "metadata": {
            "tags": []
          }
        },
        {
          "output_type": "display_data",
          "data": {
            "text/html": [
              "<div>\n",
              "<style scoped>\n",
              "    .dataframe tbody tr th:only-of-type {\n",
              "        vertical-align: middle;\n",
              "    }\n",
              "\n",
              "    .dataframe tbody tr th {\n",
              "        vertical-align: top;\n",
              "    }\n",
              "\n",
              "    .dataframe thead th {\n",
              "        text-align: right;\n",
              "    }\n",
              "</style>\n",
              "<table border=\"1\" class=\"dataframe\">\n",
              "  <thead>\n",
              "    <tr style=\"text-align: right;\">\n",
              "      <th></th>\n",
              "      <th>cluster1</th>\n",
              "      <th>count</th>\n",
              "    </tr>\n",
              "  </thead>\n",
              "  <tbody>\n",
              "    <tr>\n",
              "      <th>0</th>\n",
              "      <td>hourglass_44f_dress</td>\n",
              "      <td>496</td>\n",
              "    </tr>\n",
              "    <tr>\n",
              "      <th>1</th>\n",
              "      <td>athletic_34b_dress</td>\n",
              "      <td>472</td>\n",
              "    </tr>\n",
              "    <tr>\n",
              "      <th>2</th>\n",
              "      <td>hourglass_34d_dress</td>\n",
              "      <td>426</td>\n",
              "    </tr>\n",
              "  </tbody>\n",
              "</table>\n",
              "</div>"
            ],
            "text/plain": [
              "              cluster1  count\n",
              "0  hourglass_44f_dress    496\n",
              "1   athletic_34b_dress    472\n",
              "2  hourglass_34d_dress    426"
            ]
          },
          "metadata": {
            "tags": []
          }
        },
        {
          "output_type": "display_data",
          "data": {
            "text/html": [
              "<div>\n",
              "<style scoped>\n",
              "    .dataframe tbody tr th:only-of-type {\n",
              "        vertical-align: middle;\n",
              "    }\n",
              "\n",
              "    .dataframe tbody tr th {\n",
              "        vertical-align: top;\n",
              "    }\n",
              "\n",
              "    .dataframe thead th {\n",
              "        text-align: right;\n",
              "    }\n",
              "</style>\n",
              "<table border=\"1\" class=\"dataframe\">\n",
              "  <thead>\n",
              "    <tr style=\"text-align: right;\">\n",
              "      <th></th>\n",
              "      <th>cluster2</th>\n",
              "      <th>count</th>\n",
              "    </tr>\n",
              "  </thead>\n",
              "  <tbody>\n",
              "    <tr>\n",
              "      <th>7</th>\n",
              "      <td>hourglass_36d_dress</td>\n",
              "      <td>976</td>\n",
              "    </tr>\n",
              "    <tr>\n",
              "      <th>8</th>\n",
              "      <td>hourglass_44f_gown</td>\n",
              "      <td>920</td>\n",
              "    </tr>\n",
              "    <tr>\n",
              "      <th>18</th>\n",
              "      <td>athletic_34d_dress</td>\n",
              "      <td>582</td>\n",
              "    </tr>\n",
              "  </tbody>\n",
              "</table>\n",
              "</div>"
            ],
            "text/plain": [
              "               cluster2  count\n",
              "7   hourglass_36d_dress    976\n",
              "8    hourglass_44f_gown    920\n",
              "18   athletic_34d_dress    582"
            ]
          },
          "metadata": {
            "tags": []
          }
        }
      ]
    },
    {
      "cell_type": "code",
      "metadata": {
        "id": "Yjs3yzTJiH7U",
        "colab": {
          "base_uri": "https://localhost:8080/",
          "height": 333
        },
        "outputId": "fa3534c1-ffff-41f4-c1ea-3107a9bd823a"
      },
      "source": [
        "# plot top 3 for cluster0\n",
        "plt.figure()\n",
        "p0=cluster_0_pd.plot.bar( x='cluster0',y='count',rot=0,color='purple')\n",
        "p0.set_xlabel('cluster0')\n",
        "p0.set_ylabel('count')\n",
        "plt.xticks(rotation=0)\n",
        "p0.set_title('Top three for cluster0')"
      ],
      "execution_count": null,
      "outputs": [
        {
          "output_type": "execute_result",
          "data": {
            "text/plain": [
              "Text(0.5, 1.0, 'Top three for cluster0')"
            ]
          },
          "metadata": {
            "tags": []
          },
          "execution_count": 51
        },
        {
          "output_type": "display_data",
          "data": {
            "text/plain": [
              "<Figure size 432x288 with 0 Axes>"
            ]
          },
          "metadata": {
            "tags": []
          }
        },
        {
          "output_type": "display_data",
          "data": {
            "image/png": "[encoded data removed]",
            "text/plain": [
              "<Figure size 432x288 with 1 Axes>"
            ]
          },
          "metadata": {
            "tags": [],
            "needs_background": "light"
          }
        }
      ]
    },
    {
      "cell_type": "code",
      "metadata": {
        "id": "nJb10qbyfmqt",
        "colab": {
          "base_uri": "https://localhost:8080/",
          "height": 333
        },
        "outputId": "7b076ff9-966b-44c7-9dbe-7378a674a22a"
      },
      "source": [
        "# plot top 3 for cluster1\n",
        "plt.figure()\n",
        "p1=cluster_1_pd.plot.bar( x='cluster1',y='count',rot=0,color='green')\n",
        "p1.set_xlabel('cluster1')\n",
        "p1.set_ylabel('count')\n",
        "plt.xticks(rotation=0)\n",
        "p1.set_title('Top three for cluster1')"
      ],
      "execution_count": null,
      "outputs": [
        {
          "output_type": "execute_result",
          "data": {
            "text/plain": [
              "Text(0.5, 1.0, 'Top three for cluster1')"
            ]
          },
          "metadata": {
            "tags": []
          },
          "execution_count": 52
        },
        {
          "output_type": "display_data",
          "data": {
            "text/plain": [
              "<Figure size 432x288 with 0 Axes>"
            ]
          },
          "metadata": {
            "tags": []
          }
        },
        {
          "output_type": "display_data",
          "data": {
            "image/png": "[encoded data removed]",
            "text/plain": [
              "<Figure size 432x288 with 1 Axes>"
            ]
          },
          "metadata": {
            "tags": [],
            "needs_background": "light"
          }
        }
      ]
    },
    {
      "cell_type": "code",
      "metadata": {
        "id": "GYQ_TdgfioDd",
        "colab": {
          "base_uri": "https://localhost:8080/",
          "height": 333
        },
        "outputId": "8f50ea2b-2fcc-4cc0-ad59-c08ecbec3422"
      },
      "source": [
        "# plot top 3 for cluster2\n",
        "plt.figure()\n",
        "p2=cluster_2_pd.plot.bar( x='cluster2',y='count',rot=0,color='gold')\n",
        "p2.set_xlabel('cluster2')\n",
        "p2.set_ylabel('count')\n",
        "plt.xticks(rotation=0)\n",
        "p2.set_title('Top three for cluster2')"
      ],
      "execution_count": null,
      "outputs": [
        {
          "output_type": "execute_result",
          "data": {
            "text/plain": [
              "Text(0.5, 1.0, 'Top three for cluster2')"
            ]
          },
          "metadata": {
            "tags": []
          },
          "execution_count": 53
        },
        {
          "output_type": "display_data",
          "data": {
            "text/plain": [
              "<Figure size 432x288 with 0 Axes>"
            ]
          },
          "metadata": {
            "tags": []
          }
        },
        {
          "output_type": "display_data",
          "data": {
            "image/png": "[encoded data removed]",
            "text/plain": [
              "<Figure size 432x288 with 1 Axes>"
            ]
          },
          "metadata": {
            "tags": [],
            "needs_background": "light"
          }
        }
      ]
    },
    {
      "cell_type": "markdown",
      "metadata": {
        "id": "WHEMDOHblflf"
      },
      "source": [
        "# Part 5: Customer Rating Preference Analysis\n"
      ]
    },
    {
      "cell_type": "code",
      "metadata": {
        "id": "XIHydHQ6IN1z"
      },
      "source": [
        "# prediction 4\n",
        "df3 = data_df.drop('review_summary', 'review_text')\n",
        "# high rating means rating is 10\n",
        "df3 = df3.withColumn('rating_high', when(data_df.rating == 10, 1).otherwise(0))"
      ],
      "execution_count": null,
      "outputs": []
    },
    {
      "cell_type": "code",
      "metadata": {
        "id": "cAjpYyYcRdnp"
      },
      "source": [
        "# create features pipeline to transform categorical variables into numerical values\n",
        "feature_trans = Pipeline(\n",
        "    stages = [StringIndexer(inputCol=\"body_type\", outputCol=\"body_type_Num\"),\\\n",
        "              StringIndexer(inputCol=\"bust_size\", outputCol=\"bust_size_Num\"),\\\n",
        "              StringIndexer(inputCol=\"category\", outputCol=\"category_Num\"),\\\n",
        "              StringIndexer(inputCol=\"rented_for\", outputCol=\"rented_for_Num\"),\\\n",
        "              OneHotEncoder(inputCol=\"body_type_Num\", outputCol=\"body_type_Vector\"),\\\n",
        "              OneHotEncoder(inputCol=\"bust_size_Num\", outputCol=\"bust_size_Vector\"),\\\n",
        "              OneHotEncoder(inputCol=\"category_Num\", outputCol=\"category_Vector\"),\\\n",
        "              OneHotEncoder(inputCol=\"rented_for_Num\", outputCol=\"rented_for_Vector\")])\n",
        "\n",
        "# transform original dataframe\n",
        "transformed_df3 = feature_trans.fit(df3).transform(df3)"
      ],
      "execution_count": null,
      "outputs": []
    },
    {
      "cell_type": "code",
      "metadata": {
        "id": "J7EVUUTkd2Bj"
      },
      "source": [
        "body_type_list = sorted(set([(i[1], i[0]) for i in transformed_df3.\\\n",
        "                             select(transformed_df3.body_type,\\\n",
        "                                    transformed_df3.body_type_Num).collect()]),\\\n",
        "                        key=lambda x: x[0])\n",
        "bust_size_list = sorted(set([(i[1], i[0]) for i in transformed_df3.\\\n",
        "                             select(transformed_df3.bust_size,\\\n",
        "                                    transformed_df3.bust_size_Num).collect()]),\\\n",
        "                        key=lambda x: x[0])\n",
        "category_list = sorted(set([(i[1], i[0]) for i in transformed_df3.\\\n",
        "                             select(transformed_df3.category,\\\n",
        "                                    transformed_df3.category_Num).collect()]),\\\n",
        "                        key=lambda x: x[0])\n",
        "rented_for_list = sorted(set([(i[1], i[0]) for i in transformed_df3.\\\n",
        "                             select(transformed_df3.rented_for,\\\n",
        "                                    transformed_df3.rented_for_Num).collect()]),\\\n",
        "                        key=lambda x: x[0])"
      ],
      "execution_count": null,
      "outputs": []
    },
    {
      "cell_type": "code",
      "metadata": {
        "id": "p9ZEMvd0_BSU"
      },
      "source": [
        "# split training and testing data\n",
        "transformed_df3 = transformed_df3.drop('body_type_Num','bust_size_Num','category_Num','rented_for_Num')\n",
        "train_dt,test_dt = transformed_df3.randomSplit([0.8,0.2],seed=1)"
      ],
      "execution_count": null,
      "outputs": []
    },
    {
      "cell_type": "markdown",
      "metadata": {
        "id": "uDVRJHy5RfQM"
      },
      "source": [
        "\n",
        "\n",
        "*   **Decision Tree**\n"
      ]
    },
    {
      "cell_type": "code",
      "metadata": {
        "id": "5z09RjR4uwgF"
      },
      "source": [
        "# create pipeline\n",
        "va = VectorAssembler(inputCols = ['body_type_Vector',\\\n",
        "                                  'category_Vector','rented_for_Vector',\\\n",
        "                                  'size','age'],\\\n",
        "                     outputCol='features')\n",
        "sd = StandardScaler(withMean=True, inputCol='features', outputCol='centered_features')\n",
        "\n",
        "dt = DecisionTreeClassifier(maxDepth=5, labelCol=\"rating_high\", featuresCol=\"centered_features\")\n",
        "\n",
        "ppl_cv = Pipeline(stages = [va,sd,dt])"
      ],
      "execution_count": null,
      "outputs": []
    },
    {
      "cell_type": "code",
      "metadata": {
        "id": "T6fZWrb_17Pc"
      },
      "source": [
        "# cross validation for decision tree\n",
        "paramGrid = ParamGridBuilder() \\\n",
        "      .addGrid(dt.maxDepth, [4, 5, 6]) \\\n",
        "      .build()\n",
        "evaluator = bce(labelCol=\"rating_high\", rawPredictionCol=\"prediction\",metricName= \"areaUnderROC\")\n",
        "\n",
        "crossval = CrossValidator(estimator = ppl_cv,\\\n",
        "                            estimatorParamMaps=paramGrid,\\\n",
        "                            evaluator = evaluator,\\\n",
        "                            numFolds= 5)\n",
        "\n",
        "cv_model = crossval.fit(train_dt)"
      ],
      "execution_count": null,
      "outputs": []
    },
    {
      "cell_type": "code",
      "metadata": {
        "id": "D7LK9lGA88mC",
        "colab": {
          "base_uri": "https://localhost:8080/"
        },
        "outputId": "438b9c4e-dca7-4936-f687-8cffd49e3deb"
      },
      "source": [
        "# transform testing data\n",
        "dt_model = cv_model.bestModel\n",
        "dt_MaxDepth = dt_model.stages[-1].getMaxDepth()\n",
        "print(\"The max depth of decision tree is\", dt_MaxDepth)\n",
        "dt_predictions = dt_model.transform(test_dt)\n",
        "dt_accuracy = evaluator.evaluate(dt_predictions)\n",
        "print(\"The AUC of decision tree is\", dt_accuracy)"
      ],
      "execution_count": null,
      "outputs": [
        {
          "output_type": "stream",
          "text": [
            "The max depth of decision tree is 6\n",
            "The AUC of decision tree is 0.5007676074167262\n"
          ],
          "name": "stdout"
        }
      ]
    },
    {
      "cell_type": "markdown",
      "metadata": {
        "id": "F86feOvTR-aY"
      },
      "source": [
        "\n",
        "\n",
        "*   **Logistic Regression**\n",
        "\n"
      ]
    },
    {
      "cell_type": "code",
      "metadata": {
        "id": "MAGSdhvMEFib"
      },
      "source": [
        "# create pipeline\n",
        "css = ChiSqSelector(featuresCol='centered_features',outputCol='Aspect',labelCol='rating_high',fpr=0.05)\n",
        "lr = LogisticRegression().\\\n",
        "    setLabelCol('rating_high').\\\n",
        "    setFeaturesCol('Aspect').\\\n",
        "    setRegParam(0.0).\\\n",
        "    setMaxIter(100).\\\n",
        "    setElasticNetParam(0.)\n",
        "\n",
        "lr_estimator = Pipeline(stages = [va,sd,css,lr])"
      ],
      "execution_count": null,
      "outputs": []
    },
    {
      "cell_type": "code",
      "metadata": {
        "id": "PXQ18rhdHPij"
      },
      "source": [
        "# cross validation of logistic regression\n",
        "lr_grid = ParamGridBuilder().\\\n",
        "            addGrid(lr.regParam, [0.005, 0.01]).\\\n",
        "            addGrid(lr.elasticNetParam, [0.01,0.05]).\\\n",
        "            build()\n",
        "\n",
        "lr_cv = CrossValidator(estimator = lr_estimator,\\\n",
        "                            estimatorParamMaps=lr_grid,\\\n",
        "                            evaluator = evaluator,\\\n",
        "                            numFolds= 3)\n",
        "\n",
        "lr_cv_model = lr_cv.fit(train_dt)"
      ],
      "execution_count": null,
      "outputs": []
    },
    {
      "cell_type": "code",
      "metadata": {
        "id": "WPIcRQngvmUv",
        "colab": {
          "base_uri": "https://localhost:8080/"
        },
        "outputId": "8757aec3-cb9c-4dd4-c314-e66531ff3f52"
      },
      "source": [
        "# best model with parameters and transform testing data\n",
        "lr_model = lr_cv_model.bestModel\n",
        "reg_lambda = lr_model.stages[-1].getRegParam()\n",
        "net_alpha = lr_model.stages[-1].getElasticNetParam()\n",
        "print(\"The best lambda is\",reg_lambda,\"and the best alpha is\", net_alpha)\n",
        "\n",
        "lr_predictions = lr_model.transform(test_dt)\n",
        "lr_accuracy = evaluator.evaluate(lr_predictions)\n",
        "print(\"The AUC of logistic regression is\", lr_accuracy)"
      ],
      "execution_count": null,
      "outputs": [
        {
          "output_type": "stream",
          "text": [
            "The best lambda is 0.005 and the best alpha is 0.01\n",
            "The AUC of logistic regression is 0.5009962537431801\n"
          ],
          "name": "stdout"
        }
      ]
    },
    {
      "cell_type": "markdown",
      "metadata": {
        "id": "tbuyYGseS3Ae"
      },
      "source": [
        "\n",
        "\n",
        "*   **Gradient-boosted Tree**\n",
        "\n"
      ]
    },
    {
      "cell_type": "code",
      "metadata": {
        "id": "X0mOohr-6hCg"
      },
      "source": [
        "# create pipeline\n",
        "gbt = GBTClassifier(labelCol=\"rating_high\", featuresCol=\"centered_features\", maxIter=10)\n",
        "gbt_estimator = Pipeline(stages=[va,sd,gbt])"
      ],
      "execution_count": null,
      "outputs": []
    },
    {
      "cell_type": "code",
      "metadata": {
        "id": "os98OdNc8PvN"
      },
      "source": [
        "# cross validation of gradient-boosted tree\n",
        "gbt_grid = ParamGridBuilder().\\\n",
        "          addGrid(gbt.maxDepth, [4, 5, 6]).\\\n",
        "          build()\n",
        "\n",
        "gbt_cv = CrossValidator(estimator = gbt_estimator,\\\n",
        "                        estimatorParamMaps=gbt_grid,\\\n",
        "                        evaluator = evaluator,\\\n",
        "                        numFolds= 5)\n",
        "\n",
        "gbt_cv_model = gbt_cv.fit(train_dt)"
      ],
      "execution_count": null,
      "outputs": []
    },
    {
      "cell_type": "code",
      "metadata": {
        "colab": {
          "base_uri": "https://localhost:8080/"
        },
        "id": "7zw1EYc79M_9",
        "outputId": "318930b4-7d8b-4294-8b9f-397e611fe067"
      },
      "source": [
        "gbt_model = gbt_cv_model.bestModel\n",
        "gbt_MaxDepth = gbt_model.stages[-1].getMaxDepth()\n",
        "print(\"The max depth of gradient-boost tree is {}.\".format(gbt_MaxDepth))\n",
        "gbt_predictions = gbt_model.transform(test_dt)\n",
        "gbt_accuracy = evaluator.evaluate(gbt_predictions)\n",
        "print(\"The AUC of gradient-boost tree is\", gbt_accuracy)"
      ],
      "execution_count": null,
      "outputs": [
        {
          "output_type": "stream",
          "text": [
            "The max depth of gradient-boost tree is 6.\n",
            "The AUC of gradient-boost tree is 0.5010914388426546\n"
          ],
          "name": "stdout"
        }
      ]
    },
    {
      "cell_type": "markdown",
      "metadata": {
        "id": "jpFFupHnT8RQ"
      },
      "source": [
        "\n",
        "\n",
        "*   **Model Comparison**\n",
        "\n"
      ]
    },
    {
      "cell_type": "code",
      "metadata": {
        "id": "NP_N3NmlBSUL",
        "colab": {
          "base_uri": "https://localhost:8080/",
          "height": 295
        },
        "outputId": "5f126721-4214-4026-de69-36eb2eae7285"
      },
      "source": [
        "# draw ROC curve\n",
        "from pyspark.mllib.evaluation import BinaryClassificationMetrics as bcm\n",
        "from sklearn.metrics import roc_curve, auc\n",
        "\n",
        "preds = dt_predictions.select('rating_high','probability').rdd.map(lambda row: (float(row['probability'][1]), float(row['rating_high']))).collect()\n",
        "preds1 = lr_predictions.select('rating_high','probability').rdd.map(lambda row: (float(row['probability'][1]), float(row['rating_high']))).collect()\n",
        "preds2 = gbt_predictions.select('rating_high','probability').rdd.map(lambda row: (float(row['probability'][1]), float(row['rating_high']))).collect()\n",
        "\n",
        "fpr = dict()\n",
        "tpr = dict()\n",
        "fpr1 = dict()\n",
        "tpr1 = dict()\n",
        "fpr2 = dict()\n",
        "tpr2 = dict()\n",
        "\n",
        "y_pre = [i[1] for i in preds]\n",
        "y_pro = [i[0] for i in preds]\n",
        "y_pre1 = [i[1] for i in preds1]\n",
        "y_pro1 = [i[0] for i in preds1]\n",
        "y_pre2 = [i[1] for i in preds2]\n",
        "y_pro2 = [i[0] for i in preds2]\n",
        "\n",
        "fpr, tpr, _ = roc_curve(y_pre, y_pro)\n",
        "fpr1, tpr1, _1 = roc_curve(y_pre1, y_pro1)\n",
        "fpr2, tpr2, _2 = roc_curve(y_pre2, y_pro2)\n",
        "\n",
        "plt.figure()\n",
        "plt.plot(fpr, tpr,label='Decision Tree')\n",
        "plt.plot(fpr1,tpr1,label='Logistic Regression')\n",
        "plt.plot(fpr2,tpr2,label='Gradient-boosted Tree')\n",
        "\n",
        "plt.xlabel('FPR')\n",
        "plt.ylabel('TPR')\n",
        "plt.title('ROC curve')\n",
        "plt.legend()\n",
        "plt.show()"
      ],
      "execution_count": null,
      "outputs": [
        {
          "output_type": "display_data",
          "data": {
            "image/png": "[encoded data removed]",
            "text/plain": [
              "<Figure size 432x288 with 1 Axes>"
            ]
          },
          "metadata": {
            "tags": [],
            "needs_background": "light"
          }
        }
      ]
    },
    {
      "cell_type": "code",
      "metadata": {
        "id": "MCwJtX73EoFJ",
        "colab": {
          "base_uri": "https://localhost:8080/",
          "height": 295
        },
        "outputId": "0cfea608-d73a-4a77-98ed-5050abdaf638"
      },
      "source": [
        "# draw Precision/Recall curve\n",
        "from sklearn.metrics import precision_recall_curve as prc\n",
        "precision, recall, _ = prc(y_pre, y_pro)\n",
        "precision1, recall1, _1 = prc(y_pre1, y_pro1)\n",
        "precision2, recall2, _2 = prc(y_pre2, y_pro2)\n",
        "\n",
        "plt.figure()\n",
        "plt.plot(recall, precision,label= 'Decision Tree')\n",
        "plt.plot(recall1, precision1, label= 'Logistic Regression')\n",
        "plt.plot(recall2, precision2, label= 'Gradient-boosted Tree')\n",
        "\n",
        "plt.xlabel('Recall')\n",
        "plt.ylabel('Precision')\n",
        "plt.title('Precision/Recall curve')\n",
        "plt.legend()\n",
        "plt.show()"
      ],
      "execution_count": null,
      "outputs": [
        {
          "output_type": "display_data",
          "data": {
            "image/png": "[encoded data removed]",
            "text/plain": [
              "<Figure size 432x288 with 1 Axes>"
            ]
          },
          "metadata": {
            "tags": [],
            "needs_background": "light"
          }
        }
      ]
    },
    {
      "cell_type": "code",
      "metadata": {
        "colab": {
          "base_uri": "https://localhost:8080/",
          "height": 143
        },
        "id": "z18SSDOnmGZy",
        "outputId": "c8cf272a-60dd-4930-de09-cc3cba076ce0"
      },
      "source": [
        "# table of AUC of each model\n",
        "compare_df = pd.DataFrame({'Model':['DT', 'LR', 'GBT'],'AUC':[dt_accuracy,lr_accuracy,gbt_accuracy]})\n",
        "compare_df = compare_df.sort_values('AUC',ascending=False)\n",
        "display(compare_df)"
      ],
      "execution_count": null,
      "outputs": [
        {
          "output_type": "display_data",
          "data": {
            "text/html": [
              "<div>\n",
              "<style scoped>\n",
              "    .dataframe tbody tr th:only-of-type {\n",
              "        vertical-align: middle;\n",
              "    }\n",
              "\n",
              "    .dataframe tbody tr th {\n",
              "        vertical-align: top;\n",
              "    }\n",
              "\n",
              "    .dataframe thead th {\n",
              "        text-align: right;\n",
              "    }\n",
              "</style>\n",
              "<table border=\"1\" class=\"dataframe\">\n",
              "  <thead>\n",
              "    <tr style=\"text-align: right;\">\n",
              "      <th></th>\n",
              "      <th>Model</th>\n",
              "      <th>AUC</th>\n",
              "    </tr>\n",
              "  </thead>\n",
              "  <tbody>\n",
              "    <tr>\n",
              "      <th>2</th>\n",
              "      <td>GBT</td>\n",
              "      <td>0.501091</td>\n",
              "    </tr>\n",
              "    <tr>\n",
              "      <th>1</th>\n",
              "      <td>LR</td>\n",
              "      <td>0.500996</td>\n",
              "    </tr>\n",
              "    <tr>\n",
              "      <th>0</th>\n",
              "      <td>DT</td>\n",
              "      <td>0.500768</td>\n",
              "    </tr>\n",
              "  </tbody>\n",
              "</table>\n",
              "</div>"
            ],
            "text/plain": [
              "  Model       AUC\n",
              "2   GBT  0.501091\n",
              "1    LR  0.500996\n",
              "0    DT  0.500768"
            ]
          },
          "metadata": {
            "tags": []
          }
        }
      ]
    },
    {
      "cell_type": "markdown",
      "metadata": {
        "id": "tYZU79ApUBzQ"
      },
      "source": [
        "\n",
        "\n",
        "*   **Important Features of Best Model**\n",
        "\n"
      ]
    },
    {
      "cell_type": "code",
      "metadata": {
        "id": "hLpgUIr7KTUn"
      },
      "source": [
        "# select most important 10 features\n",
        "feature_weights = pd.DataFrame({'index':gbt_model.stages[-1].featureImportances.indices,\\\n",
        "                               'weights':gbt_model.stages[-1].featureImportances.values})\n",
        "feature_weights = feature_weights.sort_values('weights',ascending=False)[:10]"
      ],
      "execution_count": null,
      "outputs": []
    },
    {
      "cell_type": "code",
      "metadata": {
        "id": "FJpa_ygNsDEK"
      },
      "source": [
        "# create data frame of important features\n",
        "imp_feature = pd.DataFrame({'features':['size','party: cocktail','gown',\\\n",
        "                      'petite','date','sheath','pear',\\\n",
        "                      'everyday','work','apple'],\\\n",
        "               'importance':feature_weights['weights']}).\\\n",
        "        sort_values('importance',ascending=False)"
      ],
      "execution_count": null,
      "outputs": []
    },
    {
      "cell_type": "code",
      "metadata": {
        "id": "Dq_QrPuJ5sCX",
        "colab": {
          "base_uri": "https://localhost:8080/",
          "height": 313
        },
        "outputId": "8af1b7c6-5e9b-4989-c255-5b8dc002d972"
      },
      "source": [
        "# important feature visualization\n",
        "fi = imp_feature.plot(x='features',kind='barh',title='Feature Importance')\n",
        "fi.set_xlabel('importance score')"
      ],
      "execution_count": null,
      "outputs": [
        {
          "output_type": "execute_result",
          "data": {
            "text/plain": [
              "Text(0.5, 0, 'importance score')"
            ]
          },
          "metadata": {
            "tags": []
          },
          "execution_count": 72
        },
        {
          "output_type": "display_data",
          "data": {
            "image/png": "[encoded data removed]",
            "text/plain": [
              "<Figure size 432x288 with 1 Axes>"
            ]
          },
          "metadata": {
            "tags": [],
            "needs_background": "light"
          }
        }
      ]
    },
    {
      "cell_type": "code",
      "metadata": {
        "id": "GanL6rbfyHiR",
        "colab": {
          "base_uri": "https://localhost:8080/",
          "height": 90
        },
        "outputId": "82433db1-cdf4-4597-980c-dc65c10e5c8a"
      },
      "source": [
        "# the structure of gradient-boosted tree\n",
        "tree = gbt_model.stages[-1]\n",
        "tree.toDebugString"
      ],
      "execution_count": null,
      "outputs": [
        {
          "output_type": "execute_result",
          "data": {
            "application/vnd.google.colaboratory.intrinsic+json": {
              "type": "string"
            },
            "text/plain": [
              "'GBTClassificationModel: uid = GBTClassifier_8b89b142f331, numTrees=10, numClasses=2, numFeatures=83\\n  Tree 0 (weight 1.0):\\n    If (feature 7 <= 0.6448315785607937)\\n     If (feature 82 <= -0.6768766593052999)\\n      If (feature 82 <= -0.9298379640933696)\\n       If (feature 77 <= 1.5418324362608973)\\n        If (feature 78 <= 1.5760432419208692)\\n         If (feature 81 <= -0.08777490599231322)\\n          Predict: 0.4173394173394173\\n         Else (feature 81 > -0.08777490599231322)\\n          Predict: 0.3468269028041324\\n        Else (feature 78 > 1.5760432419208692)\\n         If (feature 6 <= 0.033939214243035476)\\n          Predict: 0.3414043583535109\\n         Else (feature 6 > 0.033939214243035476)\\n          Predict: 0.18461538461538463\\n       Else (feature 77 > 1.5418324362608973)\\n        If (feature 81 <= 0.26519172926697976)\\n         If (feature 5 <= 1.5825317000163812)\\n          Predict: 0.5494505494505495\\n         Else (feature 5 > 1.5825317000163812)\\n          Predict: 0.7425742574257426\\n        Else (feature 81 > 0.26519172926697976)\\n         If (feature 81 <= 1.4417471801312898)\\n          Predict: 0.21912350597609562\\n         Else (feature 81 > 1.4417471801312898)\\n          Predict: 0.5421686746987951\\n      Else (feature 82 > -0.9298379640933696)\\n       If (feature 81 <= -0.2642582236219597)\\n        If (feature 76 <= 1.455655572535423)\\n         If (feature 79 <= 2.401123861103726)\\n          Predict: 0.37432975871313673\\n         Else (feature 79 > 2.401123861103726)\\n          Predict: 0.2166172106824926\\n        Else (feature 76 > 1.455655572535423)\\n         If (feature 82 <= -0.8033573116993347)\\n          Predict: 0.32051282051282054\\n         Else (feature 82 > -0.8033573116993347)\\n          Predict: 0.09978768577494693\\n       Else (feature 81 > -0.2642582236219597)\\n        If (feature 79 <= 2.401123861103726)\\n         If (feature 76 <= 1.455655572535423)\\n          Predict: 0.27335773454055096\\n         Else (feature 76 > 1.455655572535423)\\n          Predict: 0.13636363636363635\\n        Else (feature 79 > 2.401123861103726)\\n         If (feature 1 <= 0.6491160336194239)\\n          Predict: 0.11627906976744186\\n         Else (feature 1 > 0.6491160336194239)\\n          Predict: -0.1836734693877551\\n     Else (feature 82 > -0.6768766593052999)\\n      If (feature 78 <= 1.5760432419208692)\\n       If (feature 76 <= 1.455655572535423)\\n        If (feature 81 <= -0.08777490599231322)\\n         If (feature 15 <= 5.136266233782337)\\n          Predict: 0.31617670682730925\\n         Else (feature 15 > 5.136266233782337)\\n          Predict: 0.022222222222222223\\n        Else (feature 81 > -0.08777490599231322)\\n         If (feature 15 <= 5.136266233782337)\\n          Predict: 0.23139121312146568\\n         Else (feature 15 > 5.136266233782337)\\n          Predict: -0.06395348837209303\\n       Else (feature 76 > 1.455655572535423)\\n        If (feature 14 <= 4.381408390819305)\\n         If (feature 12 <= 3.647215958792731)\\n          Predict: 0.09856799414654542\\n         Else (feature 12 > 3.647215958792731)\\n          Predict: 0.363265306122449\\n        Else (feature 14 > 4.381408390819305)\\n         If (feature 81 <= 0.26519172926697976)\\n          Predict: 0.38972809667673713\\n         Else (feature 81 > 0.26519172926697976)\\n          Predict: 0.20772946859903382\\n      Else (feature 78 > 1.5760432419208692)\\n       If (feature 8 <= 1.3253148691816874)\\n        If (feature 9 <= 2.856068211198252)\\n         If (feature 46 <= 38.346723474584365)\\n          Predict: 0.1055008685581934\\n         Else (feature 46 > 38.346723474584365)\\n          Predict: 1.0\\n        Else (feature 9 > 2.856068211198252)\\n         If (feature 82 <= 0.7144105170290835)\\n          Predict: 0.13488372093023257\\n         Else (feature 82 > 0.7144105170290835)\\n          Predict: 0.4380165289256198\\n       Else (feature 8 > 1.3253148691816874)\\n        If (feature 81 <= 0.029880639094117766)\\n         If (feature 82 <= 2.3586589981515367)\\n          Predict: 0.145985401459854\\n         Else (feature 82 > 2.3586589981515367)\\n          Predict: -0.42857142857142855\\n        Else (feature 81 > 0.029880639094117766)\\n         If (feature 81 <= 3.2065803564277546)\\n          Predict: 0.3353115727002967\\n         Else (feature 81 > 3.2065803564277546)\\n          Predict: -0.42857142857142855\\n    Else (feature 7 > 0.6448315785607937)\\n     If (feature 81 <= 0.14753618418054876)\\n      If (feature 82 <= -0.8033573116993347)\\n       If (feature 81 <= -0.2642582236219597)\\n        If (feature 74 <= 0.7169557671664422)\\n         If (feature 2 <= 1.207308979485176)\\n          Predict: 0.6228239845261122\\n         Else (feature 2 > 1.207308979485176)\\n          Predict: 0.4329501915708812\\n        Else (feature 74 > 0.7169557671664422)\\n         If (feature 82 <= -1.0563186164874043)\\n          Predict: 0.4902846814279259\\n         Else (feature 82 > -1.0563186164874043)\\n          Predict: 0.5522041763341067\\n       Else (feature 81 > -0.2642582236219597)\\n        If (feature 77 <= 1.5418324362608973)\\n         If (feature 79 <= 2.401123861103726)\\n          Predict: 0.429042904290429\\n         Else (feature 79 > 2.401123861103726)\\n          Predict: 1.0\\n        Else (feature 77 > 1.5418324362608973)\\n         If (feature 81 <= -0.08777490599231322)\\n          Predict: -1.0\\n         Else (feature 81 > -0.08777490599231322)\\n          Predict: 0.6507936507936508\\n      Else (feature 82 > -0.8033573116993347)\\n       If (feature 81 <= -0.7937081765108991)\\n        If (feature 2 <= 1.207308979485176)\\n         If (feature 5 <= 1.5825317000163812)\\n          Predict: 0.5190695158236408\\n         Else (feature 5 > 1.5825317000163812)\\n          Predict: 0.42483660130718953\\n        Else (feature 2 > 1.207308979485176)\\n         If (feature 81 <= -1.264330356856623)\\n          Predict: 0.3684210526315789\\n         Else (feature 81 > -1.264330356856623)\\n          Predict: 0.4735658042744657\\n       Else (feature 81 > -0.7937081765108991)\\n        If (feature 82 <= 1.5997750837873275)\\n         If (feature 3 <= 1.208316920073169)\\n          Predict: 0.42143651872913834\\n         Else (feature 3 > 1.208316920073169)\\n          Predict: 0.33634719710669075\\n        Else (feature 82 > 1.5997750837873275)\\n         If (feature 2 <= 1.207308979485176)\\n          Predict: 0.511302475780409\\n         Else (feature 2 > 1.207308979485176)\\n          Predict: 0.3246753246753247\\n     Else (feature 81 > 0.14753618418054876)\\n      If (feature 81 <= 1.1476083174152123)\\n       If (feature 73 <= 0.43618650413775856)\\n        If (feature 4 <= 1.5668360674096098)\\n         If (feature 82 <= 0.7144105170290835)\\n          Predict: 0.32699969353355807\\n         Else (feature 82 > 0.7144105170290835)\\n          Predict: 0.39500734214390604\\n        Else (feature 4 > 1.5668360674096098)\\n         If (feature 82 <= -0.6768766593052999)\\n          Predict: 0.43884892086330934\\n         Else (feature 82 > -0.6768766593052999)\\n          Predict: 0.20093457943925233\\n       Else (feature 73 > 0.43618650413775856)\\n        If (feature 82 <= -1.435760573669509)\\n         If (feature 81 <= 0.3828472743534107)\\n          Predict: 1.0\\n         Else (feature 81 > 0.3828472743534107)\\n          Predict: -0.23076923076923078\\n        Else (feature 82 > -1.435760573669509)\\n         If (feature 81 <= 0.8534694546991347)\\n          Predict: 0.41588492808005\\n         Else (feature 81 > 0.8534694546991347)\\n          Predict: 0.35064935064935066\\n      Else (feature 81 > 1.1476083174152123)\\n       If (feature 82 <= 2.4851396505455714)\\n        If (feature 0 <= 0.28887477222782837)\\n         If (feature 81 <= 1.3240916350448586)\\n          Predict: -0.26666666666666666\\n         Else (feature 81 > 1.3240916350448586)\\n          Predict: 0.23628509719222462\\n        Else (feature 0 > 0.28887477222782837)\\n         If (feature 82 <= 0.33496855984697904)\\n          Predict: 0.2762973352033661\\n         Else (feature 82 > 0.33496855984697904)\\n          Predict: 0.3915343915343915\\n       Else (feature 82 > 2.4851396505455714)\\n        If (feature 74 <= 0.7169557671664422)\\n         If (feature 81 <= 2.9712692662548923)\\n          Predict: 0.6082474226804123\\n         Else (feature 81 > 2.9712692662548923)\\n          Predict: 0.29411764705882354\\n        Else (feature 74 > 0.7169557671664422)\\n         If (feature 81 <= 2.3829915408227373)\\n          Predict: 0.2988505747126437\\n         Else (feature 81 > 2.3829915408227373)\\n          Predict: 0.4915254237288136\\n  Tree 1 (weight 0.1):\\n    If (feature 9 <= 2.856068211198252)\\n     If (feature 79 <= 2.401123861103726)\\n      If (feature 6 <= 0.033939214243035476)\\n       If (feature 37 <= 23.87826953971729)\\n        If (feature 22 <= 10.062568547979)\\n         If (feature 78 <= 1.5760432419208692)\\n          Predict: 0.0589414125555648\\n         Else (feature 78 > 1.5760432419208692)\\n          Predict: -0.03103656047069798\\n        Else (feature 22 > 10.062568547979)\\n         If (feature 4 <= 1.5668360674096098)\\n          Predict: 0.2868623055896034\\n         Else (feature 4 > 1.5668360674096098)\\n          Predict: 1.0260326218509144\\n       Else (feature 37 > 23.87826953971729)\\n        If (feature 3 <= 1.208316920073169)\\n         If (feature 82 <= -1.0563186164874043)\\n          Predict: -0.7282451509060304\\n         Else (feature 82 > -1.0563186164874043)\\n          Predict: 1.1340962682606957\\n        Else (feature 3 > 1.208316920073169)\\n         If (feature 81 <= -0.44074154125160614)\\n          Predict: -2.6120915996494376\\n         Else (feature 81 > -0.44074154125160614)\\n          Predict: 1.5453038517476347\\n      Else (feature 6 > 0.033939214243035476)\\n       If (feature 3 <= 1.208316920073169)\\n        If (feature 82 <= 1.346813778999258)\\n         If (feature 81 <= -0.5583970863380372)\\n          Predict: 0.05937181964198091\\n         Else (feature 81 > -0.5583970863380372)\\n          Predict: -0.0031711614381918565\\n        Else (feature 82 > 1.346813778999258)\\n         If (feature 81 <= 1.6770582703041517)\\n          Predict: 0.1193513958778134\\n         Else (feature 81 > 1.6770582703041517)\\n          Predict: -0.05377803753569626\\n       Else (feature 3 > 1.208316920073169)\\n        If (feature 82 <= -0.8033573116993347)\\n         If (feature 76 <= 1.455655572535423)\\n          Predict: 0.09837088698663103\\n         Else (feature 76 > 1.455655572535423)\\n          Predict: -0.39528733887148787\\n        Else (feature 82 > -0.8033573116993347)\\n         If (feature 81 <= -0.9113637215973301)\\n          Predict: 0.010270773592918525\\n         Else (feature 81 > -0.9113637215973301)\\n          Predict: -0.10720623173189243\\n     Else (feature 79 > 2.401123861103726)\\n      If (feature 82 <= 1.2203331266052229)\\n       If (feature 11 <= 3.0065956188796115)\\n        If (feature 10 <= 2.92873642617106)\\n         If (feature 3 <= 1.208316920073169)\\n          Predict: -0.11807173648694748\\n         Else (feature 3 > 1.208316920073169)\\n          Predict: -0.2878790397113627\\n        Else (feature 10 > 2.92873642617106)\\n         If (feature 82 <= -0.17095404972916045)\\n          Predict: -0.18576782844533063\\n         Else (feature 82 > -0.17095404972916045)\\n          Predict: -0.6682240732468323\\n       Else (feature 11 > 3.0065956188796115)\\n        If (feature 82 <= -0.9298379640933696)\\n         If (feature 82 <= -1.0563186164874043)\\n          Predict: 0.7263003036394241\\n         Else (feature 82 > -1.0563186164874043)\\n          Predict: 1.2393928667380432\\n        Else (feature 82 > -0.9298379640933696)\\n         If (feature 81 <= 1.4417471801312898)\\n          Predict: 0.07556292355822646\\n         Else (feature 81 > 1.4417471801312898)\\n          Predict: -2.380302649351034\\n      Else (feature 82 > 1.2203331266052229)\\n       If (feature 3 <= 1.208316920073169)\\n        If (feature 12 <= 3.647215958792731)\\n         If (feature 8 <= 1.3253148691816874)\\n          Predict: 0.02749932487376162\\n         Else (feature 8 > 1.3253148691816874)\\n          Predict: 0.4748675468044052\\n        Else (feature 12 > 3.647215958792731)\\n         If (feature 1 <= 0.6491160336194239)\\n          Predict: -2.5596264491837473\\n         Else (feature 1 > 0.6491160336194239)\\n          Predict: -1.2262931158504138\\n       Else (feature 3 > 1.208316920073169)\\n        If (feature 10 <= 2.92873642617106)\\n         If (feature 20 <= 8.182490077040374)\\n          Predict: 1.0305155828985388\\n         Else (feature 20 > 8.182490077040374)\\n          Predict: -2.612091599649439\\n        Else (feature 10 > 2.92873642617106)\\n         If (feature 81 <= 0.9711249997855657)\\n          Predict: 0.15950536794861048\\n         Else (feature 81 > 0.9711249997855657)\\n          Predict: -2.4546961482523657\\n    Else (feature 9 > 2.856068211198252)\\n     If (feature 82 <= 2.4851396505455714)\\n      If (feature 75 <= 0.8095161175010939)\\n       If (feature 82 <= -1.435760573669509)\\n        If (feature 78 <= 1.5760432419208692)\\n         If (feature 79 <= 2.401123861103726)\\n          Predict: 0.4128085210028238\\n         Else (feature 79 > 2.401123861103726)\\n          Predict: -2.7893733398005587\\n        Else (feature 78 > 1.5760432419208692)\\n         Predict: -2.657461141180886\\n       Else (feature 82 > -1.435760573669509)\\n        If (feature 79 <= 2.401123861103726)\\n         If (feature 82 <= 0.9673718218171533)\\n          Predict: -0.15231817680821363\\n         Else (feature 82 > 0.9673718218171533)\\n          Predict: 0.06271386791061039\\n        Else (feature 79 > 2.401123861103726)\\n         If (feature 1 <= 0.6491160336194239)\\n          Predict: -0.14509960173228795\\n         Else (feature 1 > 0.6491160336194239)\\n          Predict: -1.065096340306844\\n      Else (feature 75 > 0.8095161175010939)\\n       If (feature 81 <= 2.3829915408227373)\\n        If (feature 2 <= 1.207308979485176)\\n         If (feature 81 <= 0.029880639094117766)\\n          Predict: -0.07762126701455223\\n         Else (feature 81 > 0.029880639094117766)\\n          Predict: -0.34610372771830605\\n        Else (feature 2 > 1.207308979485176)\\n         If (feature 81 <= 0.5005028194398418)\\n          Predict: -0.6963739122536752\\n         Else (feature 81 > 0.5005028194398418)\\n          Predict: 0.7028196889958054\\n       Else (feature 81 > 2.3829915408227373)\\n        If (feature 81 <= 3.2065803564277546)\\n         If (feature 82 <= -1.1827992688814393)\\n          Predict: -2.6671169620115025\\n         Else (feature 82 > -1.1827992688814393)\\n          Predict: -2.4546961482523657\\n        Else (feature 81 > 3.2065803564277546)\\n         If (feature 82 <= 0.7144105170290835)\\n          Predict: -1.8588364195054112\\n         Else (feature 82 > 0.7144105170290835)\\n          Predict: -0.45469614825236526\\n     Else (feature 82 > 2.4851396505455714)\\n      If (feature 81 <= 2.3829915408227373)\\n       If (feature 81 <= 1.6770582703041517)\\n        If (feature 81 <= 0.9711249997855657)\\n         If (feature 81 <= 0.5005028194398418)\\n          Predict: 0.21961182393202508\\n         Else (feature 81 > 0.5005028194398418)\\n          Predict: 1.2958502599659663\\n        Else (feature 81 > 0.9711249997855657)\\n         If (feature 75 <= 0.8095161175010939)\\n          Predict: -1.547021610481699\\n         Else (feature 75 > 0.8095161175010939)\\n          Predict: 1.5453038517476345\\n       Else (feature 81 > 1.6770582703041517)\\n        If (feature 78 <= 1.5760432419208692)\\n         Predict: 1.5453038517476345\\n        Else (feature 78 > 1.5760432419208692)\\n         Predict: 1.1760020028303009\\n      Else (feature 81 > 2.3829915408227373)\\n       Predict: -2.454696148252367\\n  Tree 2 (weight 0.1):\\n    If (feature 9 <= 2.856068211198252)\\n     If (feature 79 <= 2.401123861103726)\\n      If (feature 81 <= 0.26519172926697976)\\n       If (feature 2 <= 1.207308979485176)\\n        If (feature 73 <= 0.43618650413775856)\\n         If (feature 19 <= 7.658210554956466)\\n          Predict: 0.033823380329736266\\n         Else (feature 19 > 7.658210554956466)\\n          Predict: 0.3003278118915315\\n        Else (feature 73 > 0.43618650413775856)\\n         If (feature 4 <= 1.5668360674096098)\\n          Predict: 0.0998202235879561\\n         Else (feature 4 > 1.5668360674096098)\\n          Predict: -0.07868449733253924\\n       Else (feature 2 > 1.207308979485176)\\n        If (feature 81 <= -0.9113637215973301)\\n         If (feature 8 <= 1.3253148691816874)\\n          Predict: 0.010950613853316814\\n         Else (feature 8 > 1.3253148691816874)\\n          Predict: 0.15164746163812054\\n        Else (feature 81 > -0.9113637215973301)\\n         If (feature 82 <= 0.08200725505890928)\\n          Predict: -0.018953957049055246\\n         Else (feature 82 > 0.08200725505890928)\\n          Predict: -0.1849299384321819\\n      Else (feature 81 > 0.26519172926697976)\\n       If (feature 80 <= 3.3231500457754666)\\n        If (feature 0 <= 0.28887477222782837)\\n         If (feature 82 <= -1.0563186164874043)\\n          Predict: 0.11887210853522281\\n         Else (feature 82 > -1.0563186164874043)\\n          Predict: -0.03178550155699274\\n        Else (feature 0 > 0.28887477222782837)\\n         If (feature 15 <= 5.136266233782337)\\n          Predict: 0.03036727499813051\\n         Else (feature 15 > 5.136266233782337)\\n          Predict: -0.4675989603808844\\n       Else (feature 80 > 3.3231500457754666)\\n        If (feature 14 <= 4.381408390819305)\\n         If (feature 19 <= 7.658210554956466)\\n          Predict: -0.23324915043454106\\n         Else (feature 19 > 7.658210554956466)\\n          Predict: 1.5341399610615696\\n        Else (feature 14 > 4.381408390819305)\\n         If (feature 3 <= 1.208316920073169)\\n          Predict: 1.198075114631665\\n         Else (feature 3 > 1.208316920073169)\\n          Predict: -2.4658600389384304\\n     Else (feature 79 > 2.401123861103726)\\n      If (feature 82 <= 1.4732944313932927)\\n       If (feature 11 <= 3.0065956188796115)\\n        If (feature 10 <= 2.92873642617106)\\n         If (feature 32 <= 19.34598998584683)\\n          Predict: -0.10681833138000192\\n         Else (feature 32 > 19.34598998584683)\\n          Predict: -1.154720849422626\\n        Else (feature 10 > 2.92873642617106)\\n         If (feature 5 <= 1.5825317000163812)\\n          Predict: -0.4098550908127146\\n         Else (feature 5 > 1.5825317000163812)\\n          Predict: 0.5146521963897346\\n       Else (feature 11 > 3.0065956188796115)\\n        If (feature 82 <= -0.9298379640933696)\\n         If (feature 82 <= -1.0563186164874043)\\n          Predict: 0.6038804423707046\\n         Else (feature 82 > -1.0563186164874043)\\n          Predict: 1.0380363015758216\\n        Else (feature 82 > -0.9298379640933696)\\n         If (feature 81 <= -1.264330356856623)\\n          Predict: -1.1376164123756214\\n         Else (feature 81 > -1.264330356856623)\\n          Predict: 0.08217094777465755\\n      Else (feature 82 > 1.4732944313932927)\\n       If (feature 2 <= 1.207308979485176)\\n        If (feature 4 <= 1.5668360674096098)\\n         If (feature 1 <= 0.6491160336194239)\\n          Predict: 0.3427329558040405\\n         Else (feature 1 > 0.6491160336194239)\\n          Predict: 0.03602734267651402\\n        Else (feature 4 > 1.5668360674096098)\\n         If (feature 81 <= 0.5005028194398418)\\n          Predict: -0.672756208511569\\n         Else (feature 81 > 0.5005028194398418)\\n          Predict: 0.7191354999483726\\n       Else (feature 2 > 1.207308979485176)\\n        If (feature 81 <= 0.029880639094117766)\\n         If (feature 13 <= 3.8892288475201635)\\n          Predict: -0.6911985398648751\\n         Else (feature 13 > 3.8892288475201635)\\n          Predict: -2.6170721209099828\\n        Else (feature 81 > 0.029880639094117766)\\n         If (feature 82 <= 2.1056976933634672)\\n          Predict: 1.5400915309405154\\n         Else (feature 82 > 2.1056976933634672)\\n          Predict: -0.459908469059485\\n    Else (feature 9 > 2.856068211198252)\\n     If (feature 82 <= 1.979217040969432)\\n      If (feature 5 <= 1.5825317000163812)\\n       If (feature 75 <= 0.8095161175010939)\\n        If (feature 82 <= 1.5997750837873275)\\n         If (feature 82 <= 0.9673718218171533)\\n          Predict: -0.1340573262271418\\n         Else (feature 82 > 0.9673718218171533)\\n          Predict: 0.1642956461353625\\n        Else (feature 82 > 1.5997750837873275)\\n         If (feature 4 <= 1.5668360674096098)\\n          Predict: -0.379611205769939\\n         Else (feature 4 > 1.5668360674096098)\\n          Predict: -1.2596118424721396\\n       Else (feature 75 > 0.8095161175010939)\\n        If (feature 81 <= 2.3829915408227373)\\n         If (feature 82 <= 1.5997750837873275)\\n          Predict: -0.24533841957531716\\n         Else (feature 82 > 1.5997750837873275)\\n          Predict: 0.467868964119531\\n        Else (feature 81 > 2.3829915408227373)\\n         If (feature 82 <= 0.7144105170290835)\\n          Predict: -1.7077504656768496\\n         Else (feature 82 > 0.7144105170290835)\\n          Predict: -0.5402536862455456\\n      Else (feature 5 > 1.5825317000163812)\\n       If (feature 79 <= 2.401123861103726)\\n        If (feature 82 <= -0.2974347021231953)\\n         If (feature 81 <= -0.44074154125160614)\\n          Predict: 0.120571745653574\\n         Else (feature 81 > -0.44074154125160614)\\n          Predict: -1.1747704071386347\\n        Else (feature 82 > -0.2974347021231953)\\n         If (feature 81 <= 0.9711249997855657)\\n          Predict: 0.3792470867849958\\n         Else (feature 81 > 0.9711249997855657)\\n          Predict: -2.407134089435818\\n       Else (feature 79 > 2.401123861103726)\\n        If (feature 82 <= -0.2974347021231953)\\n         If (feature 81 <= -0.9113637215973301)\\n          Predict: 1.2352653015775867\\n         Else (feature 81 > -0.9113637215973301)\\n          Predict: 1.507763194139412\\n        Else (feature 82 > -0.2974347021231953)\\n         If (feature 81 <= -0.44074154125160614)\\n          Predict: -2.585674344535227\\n         Else (feature 81 > -0.44074154125160614)\\n          Predict: -0.14137275941799185\\n     Else (feature 82 > 1.979217040969432)\\n      If (feature 81 <= 2.3829915408227373)\\n       If (feature 81 <= 0.5005028194398418)\\n        If (feature 77 <= 1.5418324362608973)\\n         If (feature 2 <= 1.207308979485176)\\n          Predict: 0.30946553946157235\\n         Else (feature 2 > 1.207308979485176)\\n          Predict: -0.36227727723482356\\n        Else (feature 77 > 1.5418324362608973)\\n         If (feature 82 <= 2.4851396505455714)\\n          Predict: -1.5253975724197602\\n         Else (feature 82 > 2.4851396505455714)\\n          Predict: -0.21463246720580967\\n       Else (feature 81 > 0.5005028194398418)\\n        If (feature 73 <= 0.43618650413775856)\\n         If (feature 4 <= 1.5668360674096098)\\n          Predict: 0.6639220644062873\\n         Else (feature 4 > 1.5668360674096098)\\n          Predict: 1.52904745368872\\n        Else (feature 73 > 0.43618650413775856)\\n         If (feature 81 <= 0.9711249997855657)\\n          Predict: 0.8642461538674657\\n         Else (feature 81 > 0.9711249997855657)\\n          Predict: -0.9162888510396978\\n      Else (feature 81 > 2.3829915408227373)\\n       If (feature 81 <= 4.618446897464926)\\n        Predict: -2.367617138070075\\n       Else (feature 81 > 4.618446897464926)\\n        Predict: -1.9718450566842223\\n  Tree 3 (weight 0.1):\\n    If (feature 9 <= 2.856068211198252)\\n     If (feature 3 <= 1.208316920073169)\\n      If (feature 37 <= 23.87826953971729)\\n       If (feature 79 <= 2.401123861103726)\\n        If (feature 2 <= 1.207308979485176)\\n         If (feature 81 <= 0.26519172926697976)\\n          Predict: 0.04993928806794128\\n         Else (feature 81 > 0.26519172926697976)\\n          Predict: 0.009038866418749394\\n        Else (feature 2 > 1.207308979485176)\\n         If (feature 81 <= -0.9113637215973301)\\n          Predict: 0.020555255828321475\\n         Else (feature 81 > -0.9113637215973301)\\n          Predict: -0.07582189827866513\\n       Else (feature 79 > 2.401123861103726)\\n        If (feature 82 <= -1.435760573669509)\\n         If (feature 6 <= 0.033939214243035476)\\n          Predict: -0.07964579430686763\\n         Else (feature 6 > 0.033939214243035476)\\n          Predict: -0.8763579244204068\\n        Else (feature 82 > -1.435760573669509)\\n         If (feature 82 <= -0.6768766593052999)\\n          Predict: 0.06263012267775807\\n         Else (feature 82 > -0.6768766593052999)\\n          Predict: -0.08162508922759534\\n      Else (feature 37 > 23.87826953971729)\\n       If (feature 82 <= -0.04447339733512558)\\n        If (feature 82 <= -0.2974347021231953)\\n         If (feature 5 <= 1.5825317000163812)\\n          Predict: 1.0572408115482497\\n         Else (feature 5 > 1.5825317000163812)\\n          Predict: -0.8230421941145032\\n        Else (feature 82 > -0.2974347021231953)\\n         If (feature 77 <= 1.5418324362608973)\\n          Predict: 0.3081030982618918\\n         Else (feature 77 > 1.5418324362608973)\\n          Predict: -2.669526618994206\\n       Else (feature 82 > -0.04447339733512558)\\n        If (feature 81 <= -0.9113637215973301)\\n         If (feature 75 <= 0.8095161175010939)\\n          Predict: 1.3139953592212332\\n         Else (feature 75 > 0.8095161175010939)\\n          Predict: -0.1463869923241304\\n        Else (feature 81 > -0.9113637215973301)\\n         If (feature 76 <= 1.455655572535423)\\n          Predict: 1.2673477062607705\\n         Else (feature 76 > 1.455655572535423)\\n          Predict: 1.5869857062038015\\n     Else (feature 3 > 1.208316920073169)\\n      If (feature 81 <= 1.4417471801312898)\\n       If (feature 6 <= 0.033939214243035476)\\n        If (feature 13 <= 3.8892288475201635)\\n         If (feature 82 <= 3.876426826879955)\\n          Predict: 0.0260941171807972\\n         Else (feature 82 > 3.876426826879955)\\n          Predict: -0.8409794331353405\\n        Else (feature 13 > 3.8892288475201635)\\n         If (feature 82 <= 1.2203331266052229)\\n          Predict: -0.22043944611411959\\n         Else (feature 82 > 1.2203331266052229)\\n          Predict: -1.8557742023357986\\n       Else (feature 6 > 0.033939214243035476)\\n        If (feature 82 <= -0.8033573116993347)\\n         If (feature 82 <= -1.1827992688814393)\\n          Predict: -0.12142572862641524\\n         Else (feature 82 > -1.1827992688814393)\\n          Predict: 0.10047334860532836\\n        Else (feature 82 > -0.8033573116993347)\\n         If (feature 82 <= 1.0938524742111881)\\n          Predict: -0.0839429802586754\\n         Else (feature 82 > 1.0938524742111881)\\n          Predict: 0.019809460914858152\\n      Else (feature 81 > 1.4417471801312898)\\n       If (feature 20 <= 8.182490077040374)\\n        If (feature 82 <= -0.6768766593052999)\\n         If (feature 76 <= 1.455655572535423)\\n          Predict: 0.09151908194036103\\n         Else (feature 76 > 1.455655572535423)\\n          Predict: -2.330358066038528\\n        Else (feature 82 > -0.6768766593052999)\\n         If (feature 82 <= 0.7144105170290835)\\n          Predict: -0.268753266012212\\n         Else (feature 82 > 0.7144105170290835)\\n          Predict: -0.016727877835534068\\n       Else (feature 20 > 8.182490077040374)\\n        If (feature 80 <= 3.3231500457754666)\\n         If (feature 76 <= 1.455655572535423)\\n          Predict: -2.197788716944612\\n         Else (feature 76 > 1.455655572535423)\\n          Predict: -2.2018773317020424\\n        Else (feature 80 > 3.3231500457754666)\\n         Predict: -2.421508337296361\\n    Else (feature 9 > 2.856068211198252)\\n     If (feature 82 <= 2.4851396505455714)\\n      If (feature 2 <= 1.207308979485176)\\n       If (feature 79 <= 2.401123861103726)\\n        If (feature 5 <= 1.5825317000163812)\\n         If (feature 80 <= 3.3231500457754666)\\n          Predict: -0.08759450118413648\\n         Else (feature 80 > 3.3231500457754666)\\n          Predict: -0.4342914333370054\\n        Else (feature 5 > 1.5825317000163812)\\n         If (feature 81 <= -0.44074154125160614)\\n          Predict: 0.16858780090650347\\n         Else (feature 81 > -0.44074154125160614)\\n          Predict: -0.25713266117712713\\n       Else (feature 79 > 2.401123861103726)\\n        If (feature 1 <= 0.6491160336194239)\\n         If (feature 82 <= 1.8527363885753974)\\n          Predict: -0.14497629992761235\\n         Else (feature 82 > 1.8527363885753974)\\n          Predict: 1.5183587047573335\\n        Else (feature 1 > 0.6491160336194239)\\n         If (feature 81 <= 0.5005028194398418)\\n          Predict: -0.6930360644253939\\n         Else (feature 81 > 0.5005028194398418)\\n          Predict: -1.9516261903946095\\n      Else (feature 2 > 1.207308979485176)\\n       If (feature 82 <= -0.2974347021231953)\\n        If (feature 75 <= 0.8095161175010939)\\n         If (feature 81 <= -1.264330356856623)\\n          Predict: 0.3740904826566435\\n         Else (feature 81 > -1.264330356856623)\\n          Predict: -0.020538368334509866\\n        Else (feature 75 > 0.8095161175010939)\\n         If (feature 81 <= -0.44074154125160614)\\n          Predict: -0.14052734005479803\\n         Else (feature 81 > -0.44074154125160614)\\n          Predict: -1.6903997805356064\\n       Else (feature 82 > -0.2974347021231953)\\n        If (feature 82 <= -0.17095404972916045)\\n         If (feature 78 <= 1.5760432419208692)\\n          Predict: -1.1163937928944647\\n         Else (feature 78 > 1.5760432419208692)\\n          Predict: 1.7883036204045482\\n        Else (feature 82 > -0.17095404972916045)\\n         If (feature 81 <= -0.9113637215973301)\\n          Predict: -0.18855019306449736\\n         Else (feature 81 > -0.9113637215973301)\\n          Predict: -0.6125207159428393\\n     Else (feature 82 > 2.4851396505455714)\\n      If (feature 0 <= 0.28887477222782837)\\n       If (feature 80 <= 3.3231500457754666)\\n        If (feature 81 <= 2.3829915408227373)\\n         If (feature 81 <= 0.5005028194398418)\\n          Predict: 0.310174509519335\\n         Else (feature 81 > 0.5005028194398418)\\n          Predict: 0.898607779805888\\n        Else (feature 81 > 2.3829915408227373)\\n         Predict: -1.5836500124408843\\n       Else (feature 80 > 3.3231500457754666)\\n        If (feature 81 <= 0.029880639094117766)\\n         If (feature 2 <= 1.207308979485176)\\n          Predict: -2.553758338950114\\n         Else (feature 2 > 1.207308979485176)\\n          Predict: -2.427551650818271\\n        Else (feature 81 > 0.029880639094117766)\\n         Predict: 1.446241661049886\\n      Else (feature 0 > 0.28887477222782837)\\n       If (feature 81 <= 0.029880639094117766)\\n        If (feature 77 <= 1.5418324362608973)\\n         If (feature 75 <= 0.8095161175010939)\\n          Predict: 1.2849177882452418\\n         Else (feature 75 > 0.8095161175010939)\\n          Predict: 0.7287006908442555\\n        Else (feature 77 > 1.5418324362608973)\\n         If (feature 81 <= -0.9113637215973301)\\n          Predict: -2.6129940560686093\\n         Else (feature 81 > -0.9113637215973301)\\n          Predict: -1.122307105539657\\n       Else (feature 81 > 0.029880639094117766)\\n        If (feature 79 <= 2.401123861103726)\\n         If (feature 81 <= 0.5005028194398418)\\n          Predict: -1.68351418471534\\n         Else (feature 81 > 0.5005028194398418)\\n          Predict: -0.5616522650972151\\n        Else (feature 79 > 2.401123861103726)\\n         If (feature 81 <= 0.5005028194398418)\\n          Predict: 1.446241661049886\\n         Else (feature 81 > 0.5005028194398418)\\n          Predict: 1.1937605260882038\\n  Tree 4 (weight 0.1):\\n    If (feature 82 <= 1.346813778999258)\\n     If (feature 79 <= 2.401123861103726)\\n      If (feature 9 <= 2.856068211198252)\\n       If (feature 6 <= 0.033939214243035476)\\n        If (feature 15 <= 5.136266233782337)\\n         If (feature 82 <= -0.9298379640933696)\\n          Predict: 0.08867355990154512\\n         Else (feature 82 > -0.9298379640933696)\\n          Predict: 0.027330540555302235\\n        Else (feature 15 > 5.136266233782337)\\n         If (feature 82 <= -0.6768766593052999)\\n          Predict: -0.42604590236945705\\n         Else (feature 82 > -0.6768766593052999)\\n          Predict: -0.01499434294232018\\n       Else (feature 6 > 0.033939214243035476)\\n        If (feature 82 <= -0.17095404972916045)\\n         If (feature 3 <= 1.208316920073169)\\n          Predict: 0.02102526287779234\\n         Else (feature 3 > 1.208316920073169)\\n          Predict: -0.03115471107093107\\n        Else (feature 82 > -0.17095404972916045)\\n         If (feature 2 <= 1.207308979485176)\\n          Predict: -0.023992988739212847\\n         Else (feature 2 > 1.207308979485176)\\n          Predict: -0.12191927503056776\\n      Else (feature 9 > 2.856068211198252)\\n       If (feature 75 <= 0.8095161175010939)\\n        If (feature 82 <= -1.435760573669509)\\n         If (feature 78 <= 1.5760432419208692)\\n          Predict: 0.36975685376352674\\n         Else (feature 78 > 1.5760432419208692)\\n          Predict: -2.1068841924546575\\n        Else (feature 82 > -1.435760573669509)\\n         If (feature 81 <= 4.618446897464926)\\n          Predict: -0.07632760030664795\\n         Else (feature 81 > 4.618446897464926)\\n          Predict: 0.8985148237434591\\n       Else (feature 75 > 0.8095161175010939)\\n        If (feature 2 <= 1.207308979485176)\\n         If (feature 3 <= 1.208316920073169)\\n          Predict: -0.07283515567839019\\n         Else (feature 3 > 1.208316920073169)\\n          Predict: -0.4330073850718318\\n        Else (feature 2 > 1.207308979485176)\\n         If (feature 81 <= -0.44074154125160614)\\n          Predict: -0.3277286093791935\\n         Else (feature 81 > -0.44074154125160614)\\n          Predict: -1.000013175752461\\n     Else (feature 79 > 2.401123861103726)\\n      If (feature 11 <= 3.0065956188796115)\\n       If (feature 10 <= 2.92873642617106)\\n        If (feature 12 <= 3.647215958792731)\\n         If (feature 17 <= 6.439873340210306)\\n          Predict: -0.07317720021212748\\n         Else (feature 17 > 6.439873340210306)\\n          Predict: -0.8223023362248495\\n        Else (feature 12 > 3.647215958792731)\\n         If (feature 81 <= 0.9711249997855657)\\n          Predict: -0.5235170884049627\\n         Else (feature 81 > 0.9711249997855657)\\n          Predict: 1.6068140335527872\\n       Else (feature 10 > 2.92873642617106)\\n        If (feature 5 <= 1.5825317000163812)\\n         If (feature 82 <= -0.17095404972916045)\\n          Predict: -0.11457348698071187\\n         Else (feature 82 > -0.17095404972916045)\\n          Predict: -0.5381288489096787\\n        Else (feature 5 > 1.5825317000163812)\\n         If (feature 81 <= 0.14753618418054876)\\n          Predict: 0.5255981888437895\\n         Else (feature 81 > 0.14753618418054876)\\n          Predict: -2.501320384366908\\n      Else (feature 11 > 3.0065956188796115)\\n       If (feature 82 <= 1.0938524742111881)\\n        If (feature 82 <= -0.9298379640933696)\\n         If (feature 82 <= -1.0563186164874043)\\n          Predict: 0.5002294604243266\\n         Else (feature 82 > -1.0563186164874043)\\n          Predict: 0.878631247227796\\n        Else (feature 82 > -0.9298379640933696)\\n         If (feature 81 <= -0.44074154125160614)\\n          Predict: -0.20205161901455984\\n         Else (feature 81 > -0.44074154125160614)\\n          Predict: 0.26697987244049204\\n       Else (feature 82 > 1.0938524742111881)\\n        If (feature 81 <= -0.9113637215973301)\\n         If (feature 82 <= 1.2203331266052229)\\n          Predict: 1.3644606240201225\\n         Else (feature 82 > 1.2203331266052229)\\n          Predict: -2.6171708984093587\\n        Else (feature 81 > -0.9113637215973301)\\n         If (feature 81 <= -0.44074154125160614)\\n          Predict: 1.3763158005727019\\n         Else (feature 81 > -0.44074154125160614)\\n          Predict: 1.501385268937207\\n    Else (feature 82 > 1.346813778999258)\\n     If (feature 73 <= 0.43618650413775856)\\n      If (feature 17 <= 6.439873340210306)\\n       If (feature 23 <= 10.985656449352286)\\n        If (feature 36 <= 21.322010186996863)\\n         If (feature 82 <= 1.5997750837873275)\\n          Predict: 0.10268192480199186\\n         Else (feature 82 > 1.5997750837873275)\\n          Predict: 0.03276581891335725\\n        Else (feature 36 > 21.322010186996863)\\n         If (feature 82 <= 1.7262557361813626)\\n          Predict: -2.466789343762538\\n         Else (feature 82 > 1.7262557361813626)\\n          Predict: 0.14548476370408014\\n       Else (feature 23 > 10.985656449352286)\\n        If (feature 82 <= 1.5997750837873275)\\n         If (feature 5 <= 1.5825317000163812)\\n          Predict: -1.788345399176082\\n         Else (feature 5 > 1.5825317000163812)\\n          Predict: 0.4446619168596098\\n        Else (feature 82 > 1.5997750837873275)\\n         If (feature 80 <= 3.3231500457754666)\\n          Predict: 0.04899290774909849\\n         Else (feature 80 > 3.3231500457754666)\\n          Predict: -2.4427144629191413\\n      Else (feature 17 > 6.439873340210306)\\n       If (feature 1 <= 0.6491160336194239)\\n        If (feature 82 <= 1.979217040969432)\\n         If (feature 82 <= 1.5997750837873275)\\n          Predict: -0.21862106747135965\\n         Else (feature 82 > 1.5997750837873275)\\n          Predict: -1.2491725042509474\\n        Else (feature 82 > 1.979217040969432)\\n         If (feature 4 <= 1.5668360674096098)\\n          Predict: -0.06127340093894906\\n         Else (feature 4 > 1.5668360674096098)\\n          Predict: -2.3033542630894845\\n       Else (feature 1 > 0.6491160336194239)\\n        If (feature 81 <= -0.9113637215973301)\\n         If (feature 76 <= 1.455655572535423)\\n          Predict: -2.2206452010835735\\n         Else (feature 76 > 1.455655572535423)\\n          Predict: -2.224723847254023\\n        Else (feature 81 > -0.9113637215973301)\\n         If (feature 78 <= 1.5760432419208692)\\n          Predict: 0.8684748023441384\\n         Else (feature 78 > 1.5760432419208692)\\n          Predict: -0.6164318907762987\\n     Else (feature 73 > 0.43618650413775856)\\n      If (feature 4 <= 1.5668360674096098)\\n       If (feature 81 <= 2.9712692662548923)\\n        If (feature 8 <= 1.3253148691816874)\\n         If (feature 0 <= 0.28887477222782837)\\n          Predict: 0.07983655690702382\\n         Else (feature 0 > 0.28887477222782837)\\n          Predict: 0.21594422308432107\\n        Else (feature 8 > 1.3253148691816874)\\n         If (feature 81 <= -0.44074154125160614)\\n          Predict: 0.7634066344014251\\n         Else (feature 81 > -0.44074154125160614)\\n          Predict: 0.15718086772836026\\n       Else (feature 81 > 2.9712692662548923)\\n        If (feature 0 <= 0.28887477222782837)\\n         If (feature 1 <= 0.6491160336194239)\\n          Predict: 0.20138187261436616\\n         Else (feature 1 > 0.6491160336194239)\\n          Predict: -1.4508562700729313\\n        Else (feature 0 > 0.28887477222782837)\\n         If (feature 81 <= 3.2065803564277546)\\n          Predict: -1.2282096864018837\\n         Else (feature 81 > 3.2065803564277546)\\n          Predict: -0.02616023544681016\\n      Else (feature 4 > 1.5668360674096098)\\n       If (feature 82 <= 2.4851396505455714)\\n        If (feature 8 <= 1.3253148691816874)\\n         If (feature 81 <= 1.5594027252177205)\\n          Predict: 0.3682107216152585\\n         Else (feature 81 > 1.5594027252177205)\\n          Predict: -0.28038276423657954\\n        Else (feature 8 > 1.3253148691816874)\\n         If (feature 81 <= 0.5005028194398418)\\n          Predict: -1.5004144818898904\\n         Else (feature 81 > 0.5005028194398418)\\n          Predict: 0.338444731413684\\n       Else (feature 82 > 2.4851396505455714)\\n        If (feature 12 <= 3.647215958792731)\\n         If (feature 81 <= 1.4417471801312898)\\n          Predict: 0.4925173677221665\\n         Else (feature 81 > 1.4417471801312898)\\n          Predict: 0.8349194547805091\\n        Else (feature 12 > 3.647215958792731)\\n         If (feature 81 <= 0.9711249997855657)\\n          Predict: 1.538444731413684\\n         Else (feature 81 > 0.9711249997855657)\\n          Predict: -2.461555268586316\\n  Tree 5 (weight 0.1):\\n    If (feature 81 <= -0.6760526314244681)\\n     If (feature 23 <= 10.985656449352286)\\n      If (feature 29 <= 16.62638940916157)\\n       If (feature 73 <= 0.43618650413775856)\\n        If (feature 11 <= 3.0065956188796115)\\n         If (feature 82 <= 0.33496855984697904)\\n          Predict: 0.012757184965202305\\n         Else (feature 82 > 0.33496855984697904)\\n          Predict: 0.07917616032044172\\n        Else (feature 11 > 3.0065956188796115)\\n         If (feature 1 <= 0.6491160336194239)\\n          Predict: -0.066218768383291\\n         Else (feature 1 > 0.6491160336194239)\\n          Predict: -0.42780493839389144\\n       Else (feature 73 > 0.43618650413775856)\\n        If (feature 0 <= 0.28887477222782837)\\n         If (feature 8 <= 1.3253148691816874)\\n          Predict: 0.035782141750719705\\n         Else (feature 8 > 1.3253148691816874)\\n          Predict: 0.16768871271818458\\n        Else (feature 0 > 0.28887477222782837)\\n         If (feature 82 <= 0.5879298646350488)\\n          Predict: 0.15542823127129668\\n         Else (feature 82 > 0.5879298646350488)\\n          Predict: 0.4849094145906437\\n      Else (feature 29 > 16.62638940916157)\\n       If (feature 82 <= -1.0563186164874043)\\n        If (feature 76 <= 1.455655572535423)\\n         Predict: 1.2753353243604906\\n        Else (feature 76 > 1.455655572535423)\\n         Predict: 1.1719202020786565\\n       Else (feature 82 > -1.0563186164874043)\\n        If (feature 82 <= 0.8408911694231185)\\n         If (feature 3 <= 1.208316920073169)\\n          Predict: -1.408867543818181\\n         Else (feature 3 > 1.208316920073169)\\n          Predict: 1.4690327760997377\\n        Else (feature 82 > 0.8408911694231185)\\n         If (feature 82 <= 1.5997750837873275)\\n          Predict: 0.9747306282869257\\n         Else (feature 82 > 1.5997750837873275)\\n          Predict: -2.2311918715865873\\n     Else (feature 23 > 10.985656449352286)\\n      If (feature 82 <= -0.8033573116993347)\\n       If (feature 5 <= 1.5825317000163812)\\n        If (feature 78 <= 1.5760432419208692)\\n         If (feature 76 <= 1.455655572535423)\\n          Predict: 0.9654847770359454\\n         Else (feature 76 > 1.455655572535423)\\n          Predict: 1.1719202020786565\\n        Else (feature 78 > 1.5760432419208692)\\n         If (feature 3 <= 1.208316920073169)\\n          Predict: -1.8901312613921064\\n         Else (feature 3 > 1.208316920073169)\\n          Predict: 1.3216503196329548\\n       Else (feature 5 > 1.5825317000163812)\\n        If (feature 75 <= 0.8095161175010939)\\n         If (feature 82 <= -1.435760573669509)\\n          Predict: 1.1719202020786565\\n         Else (feature 82 > -1.435760573669509)\\n          Predict: 1.32544588150386\\n        Else (feature 75 > 0.8095161175010939)\\n         If (feature 82 <= -0.9298379640933696)\\n          Predict: 1.1719202020786565\\n         Else (feature 82 > -0.9298379640933696)\\n          Predict: 1.2549819661858121\\n      Else (feature 82 > -0.8033573116993347)\\n       If (feature 82 <= 0.20848790745294415)\\n        If (feature 82 <= -0.04447339733512558)\\n         If (feature 75 <= 0.8095161175010939)\\n          Predict: -1.4265776925843243\\n         Else (feature 75 > 0.8095161175010939)\\n          Predict: 1.3606660395017443\\n        Else (feature 82 > -0.04447339733512558)\\n         If (feature 75 <= 0.8095161175010939)\\n          Predict: 1.036161989652946\\n         Else (feature 75 > 0.8095161175010939)\\n          Predict: -2.6427507981625014\\n       Else (feature 82 > 0.20848790745294415)\\n        If (feature 82 <= 0.9673718218171533)\\n         If (feature 78 <= 1.5760432419208692)\\n          Predict: -2.4989485562159435\\n         Else (feature 78 > 1.5760432419208692)\\n          Predict: -2.222601853487495\\n        Else (feature 82 > 0.9673718218171533)\\n         If (feature 82 <= 2.4851396505455714)\\n          Predict: -0.23808082795346552\\n         Else (feature 82 > 2.4851396505455714)\\n          Predict: -2.234393319384306\\n    Else (feature 81 > -0.6760526314244681)\\n     If (feature 2 <= 1.207308979485176)\\n      If (feature 82 <= 2.4851396505455714)\\n       If (feature 53 <= 56.45259832676672)\\n        If (feature 81 <= 1.3240916350448586)\\n         If (feature 8 <= 1.3253148691816874)\\n          Predict: 0.0039081961053862935\\n         Else (feature 8 > 1.3253148691816874)\\n          Predict: 0.05767784212461642\\n        Else (feature 81 > 1.3240916350448586)\\n         If (feature 0 <= 0.28887477222782837)\\n          Predict: -0.07022598865991746\\n         Else (feature 0 > 0.28887477222782837)\\n          Predict: 0.010815079601879213\\n       Else (feature 53 > 56.45259832676672)\\n        If (feature 73 <= 0.43618650413775856)\\n         If (feature 81 <= -0.44074154125160614)\\n          Predict: 1.3572492018374986\\n         Else (feature 81 > -0.44074154125160614)\\n          Predict: 1.5271478664981053\\n        Else (feature 73 > 0.43618650413775856)\\n         Predict: 1.284367078755258\\n      Else (feature 82 > 2.4851396505455714)\\n       If (feature 4 <= 1.5668360674096098)\\n        If (feature 81 <= 1.1476083174152123)\\n         If (feature 81 <= 0.9711249997855657)\\n          Predict: 0.09586233577421212\\n         Else (feature 81 > 0.9711249997855657)\\n          Predict: 0.7629613381295033\\n        Else (feature 81 > 1.1476083174152123)\\n         If (feature 80 <= 3.3231500457754666)\\n          Predict: -0.059072424888179986\\n         Else (feature 80 > 3.3231500457754666)\\n          Predict: 1.0782227895969276\\n       Else (feature 4 > 1.5668360674096098)\\n        If (feature 17 <= 6.439873340210306)\\n         If (feature 79 <= 2.401123861103726)\\n          Predict: 0.3034481103266528\\n         Else (feature 79 > 2.401123861103726)\\n          Predict: -0.3266004144040595\\n        Else (feature 17 > 6.439873340210306)\\n         If (feature 76 <= 1.455655572535423)\\n          Predict: -2.0306499900382176\\n         Else (feature 76 > 1.455655572535423)\\n          Predict: -1.7555896560690927\\n     Else (feature 2 > 1.207308979485176)\\n      If (feature 82 <= -0.04447339733512558)\\n       If (feature 75 <= 0.8095161175010939)\\n        If (feature 81 <= 1.3240916350448586)\\n         If (feature 81 <= -0.08777490599231322)\\n          Predict: -0.035674387322915356\\n         Else (feature 81 > -0.08777490599231322)\\n          Predict: 0.1532428438270903\\n        Else (feature 81 > 1.3240916350448586)\\n         If (feature 76 <= 1.455655572535423)\\n          Predict: -0.7603346595673688\\n         Else (feature 76 > 1.455655572535423)\\n          Predict: 0.7890802218655537\\n       Else (feature 75 > 0.8095161175010939)\\n        If (feature 81 <= 0.26519172926697976)\\n         If (feature 81 <= 0.029880639094117766)\\n          Predict: -0.125473010616954\\n         Else (feature 81 > 0.029880639094117766)\\n          Predict: 0.4308797606241963\\n        Else (feature 81 > 0.26519172926697976)\\n         If (feature 81 <= 0.9711249997855657)\\n          Predict: -0.9016979378522562\\n         Else (feature 81 > 0.9711249997855657)\\n          Predict: 0.23737259238045608\\n      Else (feature 82 > -0.04447339733512558)\\n       If (feature 82 <= 1.346813778999258)\\n        If (feature 6 <= 0.033939214243035476)\\n         If (feature 32 <= 19.34598998584683)\\n          Predict: -0.06615232148424369\\n         Else (feature 32 > 19.34598998584683)\\n          Predict: -2.537440909406996\\n        Else (feature 6 > 0.033939214243035476)\\n         If (feature 82 <= 0.8408911694231185)\\n          Predict: -0.24154692219641274\\n         Else (feature 82 > 0.8408911694231185)\\n          Predict: -0.5209168278980975\\n       Else (feature 82 > 1.346813778999258)\\n        If (feature 20 <= 8.182490077040374)\\n         If (feature 82 <= 2.1056976933634672)\\n          Predict: 0.21166849552417105\\n         Else (feature 82 > 2.1056976933634672)\\n          Predict: -0.13199735654725225\\n        Else (feature 20 > 8.182490077040374)\\n         If (feature 81 <= 0.029880639094117766)\\n          Predict: 1.8386762835055976\\n         Else (feature 81 > 0.029880639094117766)\\n          Predict: 1.8066498010331546\\n  Tree 6 (weight 0.1):\\n    If (feature 73 <= 0.43618650413775856)\\n     If (feature 74 <= 0.7169557671664422)\\n      If (feature 7 <= 0.6448315785607937)\\n       If (feature 22 <= 10.062568547979)\\n        If (feature 38 <= 23.194981423043405)\\n         If (feature 37 <= 23.87826953971729)\\n          Predict: -0.017649764556648347\\n         Else (feature 37 > 23.87826953971729)\\n          Predict: 0.5964275267515508\\n        Else (feature 38 > 23.194981423043405)\\n         If (feature 4 <= 1.5668360674096098)\\n          Predict: 0.7765552606659892\\n         Else (feature 4 > 1.5668360674096098)\\n          Predict: -0.6157361353370062\\n       Else (feature 22 > 10.062568547979)\\n        If (feature 81 <= 0.029880639094117766)\\n         If (feature 0 <= 0.28887477222782837)\\n          Predict: 0.5949875416336706\\n         Else (feature 0 > 0.28887477222782837)\\n          Predict: 0.09692521735855576\\n        Else (feature 81 > 0.029880639094117766)\\n         If (feature 77 <= 1.5418324362608973)\\n          Predict: 0.12478904014311441\\n         Else (feature 77 > 1.5418324362608973)\\n          Predict: -1.251163604099454\\n      Else (feature 7 > 0.6448315785607937)\\n       If (feature 4 <= 1.5668360674096098)\\n        If (feature 77 <= 1.5418324362608973)\\n         If (feature 81 <= -1.0290192666837612)\\n          Predict: 0.3182981296852983\\n         Else (feature 81 > -1.0290192666837612)\\n          Predict: 0.03849833428943587\\n        Else (feature 77 > 1.5418324362608973)\\n         If (feature 5 <= 1.5825317000163812)\\n          Predict: 0.14836933877499286\\n         Else (feature 5 > 1.5825317000163812)\\n          Predict: 0.5113693767344336\\n       Else (feature 4 > 1.5668360674096098)\\n        If (feature 81 <= 1.1476083174152123)\\n         If (feature 81 <= 0.8534694546991347)\\n          Predict: -0.15401969242004176\\n         Else (feature 81 > 0.8534694546991347)\\n          Predict: -1.1862694082848535\\n        Else (feature 81 > 1.1476083174152123)\\n         If (feature 78 <= 1.5760432419208692)\\n          Predict: 0.4382318824610488\\n         Else (feature 78 > 1.5760432419208692)\\n          Predict: -2.458567702138991\\n     Else (feature 74 > 0.7169557671664422)\\n      If (feature 81 <= 1.3240916350448586)\\n       If (feature 7 <= 0.6448315785607937)\\n        If (feature 82 <= -0.9298379640933696)\\n         If (feature 28 <= 15.584992185794302)\\n          Predict: -0.044167670824449425\\n         Else (feature 28 > 15.584992185794302)\\n          Predict: -2.821523462922613\\n        Else (feature 82 > -0.9298379640933696)\\n         If (feature 82 <= 3.876426826879955)\\n          Predict: 0.10846758096039179\\n         Else (feature 82 > 3.876426826879955)\\n          Predict: 1.448372263979055\\n       Else (feature 7 > 0.6448315785607937)\\n        If (feature 81 <= 1.1476083174152123)\\n         If (feature 81 <= 0.8534694546991347)\\n          Predict: 0.020702035244627996\\n         Else (feature 81 > 0.8534694546991347)\\n          Predict: -0.034943835557502426\\n        Else (feature 81 > 1.1476083174152123)\\n         If (feature 2 <= 1.207308979485176)\\n          Predict: 0.9273534236208413\\n         Else (feature 2 > 1.207308979485176)\\n          Predict: -0.46780498099686874\\n      Else (feature 81 > 1.3240916350448586)\\n       If (feature 82 <= 2.4851396505455714)\\n        If (feature 4 <= 1.5668360674096098)\\n         If (feature 3 <= 1.208316920073169)\\n          Predict: -0.0015455018868168323\\n         Else (feature 3 > 1.208316920073169)\\n          Predict: -0.16565262035302444\\n        Else (feature 4 > 1.5668360674096098)\\n         If (feature 7 <= 0.6448315785607937)\\n          Predict: -0.4042598970438693\\n         Else (feature 7 > 0.6448315785607937)\\n          Predict: -0.05874884045811881\\n       Else (feature 82 > 2.4851396505455714)\\n        If (feature 7 <= 0.6448315785607937)\\n         If (feature 2 <= 1.207308979485176)\\n          Predict: 0.6255882430081892\\n         Else (feature 2 > 1.207308979485176)\\n          Predict: -2.4265529461258595\\n        Else (feature 7 > 0.6448315785607937)\\n         If (feature 82 <= 3.876426826879955)\\n          Predict: -0.0638571641280338\\n         Else (feature 82 > 3.876426826879955)\\n          Predict: 0.4108902615300393\\n    Else (feature 73 > 0.43618650413775856)\\n     If (feature 82 <= 0.5879298646350488)\\n      If (feature 82 <= -0.17095404972916045)\\n       If (feature 81 <= 0.14753618418054876)\\n        If (feature 12 <= 3.647215958792731)\\n         If (feature 81 <= 0.029880639094117766)\\n          Predict: 0.05016096929035563\\n         Else (feature 81 > 0.029880639094117766)\\n          Predict: 0.24879962385879476\\n        Else (feature 12 > 3.647215958792731)\\n         If (feature 1 <= 0.6491160336194239)\\n          Predict: 0.14665515438984528\\n         Else (feature 1 > 0.6491160336194239)\\n          Predict: 0.6958676784278093\\n       Else (feature 81 > 0.14753618418054876)\\n        If (feature 15 <= 5.136266233782337)\\n         If (feature 81 <= 3.2065803564277546)\\n          Predict: -0.012503885669512814\\n         Else (feature 81 > 3.2065803564277546)\\n          Predict: 0.25588328860403825\\n        Else (feature 15 > 5.136266233782337)\\n         If (feature 82 <= -1.1827992688814393)\\n          Predict: -2.5711271199582004\\n         Else (feature 82 > -1.1827992688814393)\\n          Predict: -0.7846344228681393\\n      Else (feature 82 > -0.17095404972916045)\\n       If (feature 4 <= 1.5668360674096098)\\n        If (feature 81 <= 1.6770582703041517)\\n         If (feature 2 <= 1.207308979485176)\\n          Predict: 0.011287800178401005\\n         Else (feature 2 > 1.207308979485176)\\n          Predict: -0.115435814352561\\n        Else (feature 81 > 1.6770582703041517)\\n         If (feature 2 <= 1.207308979485176)\\n          Predict: -0.17005239206886405\\n         Else (feature 2 > 1.207308979485176)\\n          Predict: -1.5552874954127318\\n       Else (feature 4 > 1.5668360674096098)\\n        If (feature 27 <= 15.486358803338659)\\n         If (feature 15 <= 5.136266233782337)\\n          Predict: -0.18228339943521468\\n         Else (feature 15 > 5.136266233782337)\\n          Predict: 0.8363213113912422\\n        Else (feature 27 > 15.486358803338659)\\n         Predict: -2.467465991027879\\n     Else (feature 82 > 0.5879298646350488)\\n      If (feature 6 <= 0.033939214243035476)\\n       If (feature 81 <= -0.5583970863380372)\\n        If (feature 82 <= 0.8408911694231185)\\n         If (feature 3 <= 1.208316920073169)\\n          Predict: 0.2786131054567435\\n         Else (feature 3 > 1.208316920073169)\\n          Predict: -1.1116319307022158\\n        Else (feature 82 > 0.8408911694231185)\\n         If (feature 15 <= 5.136266233782337)\\n          Predict: 0.46579948906032054\\n         Else (feature 15 > 5.136266233782337)\\n          Predict: 1.925461900320651\\n       Else (feature 81 > -0.5583970863380372)\\n        If (feature 82 <= 1.0938524742111881)\\n         If (feature 10 <= 2.92873642617106)\\n          Predict: 0.21732245423481664\\n         Else (feature 10 > 2.92873642617106)\\n          Predict: 1.0211652946591034\\n        Else (feature 82 > 1.0938524742111881)\\n         If (feature 1 <= 0.6491160336194239)\\n          Predict: 0.14272390717024053\\n         Else (feature 1 > 0.6491160336194239)\\n          Predict: -0.0776364345868911\\n      Else (feature 6 > 0.033939214243035476)\\n       If (feature 81 <= 4.618446897464926)\\n        If (feature 82 <= 1.346813778999258)\\n         If (feature 81 <= 2.7359581760820304)\\n          Predict: 7.520337902471682E-4\\n         Else (feature 81 > 2.7359581760820304)\\n          Predict: 0.432121994402022\\n        Else (feature 82 > 1.346813778999258)\\n         If (feature 81 <= 0.5005028194398418)\\n          Predict: 0.07912031981001134\\n         Else (feature 81 > 0.5005028194398418)\\n          Predict: 0.22193750261823725\\n       Else (feature 81 > 4.618446897464926)\\n        If (feature 0 <= 0.28887477222782837)\\n         If (feature 82 <= 0.7144105170290835)\\n          Predict: -2.3951622444621123\\n         Else (feature 82 > 0.7144105170290835)\\n          Predict: -2.4489762732900027\\n        Else (feature 0 > 0.28887477222782837)\\n         If (feature 82 <= 1.346813778999258)\\n          Predict: 1.5409330873121427\\n         Else (feature 82 > 1.346813778999258)\\n          Predict: 1.5642373565809016\\n  Tree 7 (weight 0.1):\\n    If (feature 9 <= 2.856068211198252)\\n     If (feature 3 <= 1.208316920073169)\\n      If (feature 37 <= 23.87826953971729)\\n       If (feature 38 <= 23.194981423043405)\\n        If (feature 22 <= 10.062568547979)\\n         If (feature 73 <= 0.43618650413775856)\\n          Predict: 0.005458589875762312\\n         Else (feature 73 > 0.43618650413775856)\\n          Predict: 0.033214415123238056\\n        Else (feature 22 > 10.062568547979)\\n         If (feature 0 <= 0.28887477222782837)\\n          Predict: 0.4391861469024518\\n         Else (feature 0 > 0.28887477222782837)\\n          Predict: 0.024449777526827546\\n       Else (feature 38 > 23.194981423043405)\\n        If (feature 82 <= -1.435760573669509)\\n         Predict: -2.60668491648274\\n        Else (feature 82 > -1.435760573669509)\\n         If (feature 81 <= 0.9711249997855657)\\n          Predict: 0.69985068623623\\n         Else (feature 81 > 0.9711249997855657)\\n          Predict: -2.295816394367165\\n      Else (feature 37 > 23.87826953971729)\\n       If (feature 82 <= -1.0563186164874043)\\n        If (feature 0 <= 0.28887477222782837)\\n         Predict: -2.645105982672226\\n        Else (feature 0 > 0.28887477222782837)\\n         Predict: 1.1534680864701514\\n       Else (feature 82 > -1.0563186164874043)\\n        If (feature 75 <= 0.8095161175010939)\\n         If (feature 77 <= 1.5418324362608973)\\n          Predict: 1.1500571349678659\\n         Else (feature 77 > 1.5418324362608973)\\n          Predict: 0.5842178475438405\\n        Else (feature 75 > 0.8095161175010939)\\n         If (feature 81 <= -0.9113637215973301)\\n          Predict: -0.3013185543147577\\n         Else (feature 81 > -0.9113637215973301)\\n          Predict: 0.6268768692073174\\n     Else (feature 3 > 1.208316920073169)\\n      If (feature 28 <= 15.584992185794302)\\n       If (feature 76 <= 1.455655572535423)\\n        If (feature 29 <= 16.62638940916157)\\n         If (feature 14 <= 4.381408390819305)\\n          Predict: -0.023615993615141384\\n         Else (feature 14 > 4.381408390819305)\\n          Predict: 0.36265115708679385\\n        Else (feature 29 > 16.62638940916157)\\n         If (feature 78 <= 1.5760432419208692)\\n          Predict: 1.4986136147669193\\n         Else (feature 78 > 1.5760432419208692)\\n          Predict: 1.8676162214818675\\n       Else (feature 76 > 1.455655572535423)\\n        If (feature 82 <= -1.435760573669509)\\n         If (feature 81 <= 0.5005028194398418)\\n          Predict: 1.2557349609681154\\n         Else (feature 81 > 0.5005028194398418)\\n          Predict: -0.26192881665221324\\n        Else (feature 82 > -1.435760573669509)\\n         If (feature 81 <= 3.2065803564277546)\\n          Predict: -0.12715101846742388\\n         Else (feature 81 > 3.2065803564277546)\\n          Predict: -2.1557006659440674\\n      Else (feature 28 > 15.584992185794302)\\n       If (feature 82 <= 0.33496855984697904)\\n        If (feature 82 <= -0.2974347021231953)\\n         If (feature 82 <= -0.8033573116993347)\\n          Predict: 1.2592541470396312\\n         Else (feature 82 > -0.8033573116993347)\\n          Predict: 1.7843442343726454\\n        Else (feature 82 > -0.2974347021231953)\\n         If (feature 82 <= 0.20848790745294415)\\n          Predict: -0.20768724475999023\\n         Else (feature 82 > 0.20848790745294415)\\n          Predict: -2.222698272095126\\n       Else (feature 82 > 0.33496855984697904)\\n        If (feature 79 <= 2.401123861103726)\\n         If (feature 74 <= 0.7169557671664422)\\n          Predict: 1.7230354059920376\\n         Else (feature 74 > 0.7169557671664422)\\n          Predict: 1.4965610988766098\\n        Else (feature 79 > 2.401123861103726)\\n         Predict: 1.131690729846433\\n    Else (feature 9 > 2.856068211198252)\\n     If (feature 78 <= 1.5760432419208692)\\n      If (feature 81 <= 0.029880639094117766)\\n       If (feature 82 <= -0.6768766593052999)\\n        If (feature 3 <= 1.208316920073169)\\n         If (feature 81 <= -0.9113637215973301)\\n          Predict: 0.16350274242349808\\n         Else (feature 81 > -0.9113637215973301)\\n          Predict: -0.08732507766591077\\n        Else (feature 3 > 1.208316920073169)\\n         If (feature 79 <= 2.401123861103726)\\n          Predict: 0.7751785037827227\\n         Else (feature 79 > 2.401123861103726)\\n          Predict: -2.452150005452534\\n       Else (feature 82 > -0.6768766593052999)\\n        If (feature 2 <= 1.207308979485176)\\n         If (feature 79 <= 2.401123861103726)\\n          Predict: -0.034069396129652006\\n         Else (feature 79 > 2.401123861103726)\\n          Predict: -0.35133347269945325\\n        Else (feature 2 > 1.207308979485176)\\n         If (feature 82 <= 0.20848790745294415)\\n          Predict: -0.3823202104723883\\n         Else (feature 82 > 0.20848790745294415)\\n          Predict: -0.0553749430990355\\n      Else (feature 81 > 0.029880639094117766)\\n       If (feature 77 <= 1.5418324362608973)\\n        If (feature 82 <= -0.550396006911265)\\n         If (feature 79 <= 2.401123861103726)\\n          Predict: -0.36684206524001023\\n         Else (feature 79 > 2.401123861103726)\\n          Predict: 0.6001972496710417\\n        Else (feature 82 > -0.550396006911265)\\n         If (feature 80 <= 3.3231500457754666)\\n          Predict: -0.08983063367634124\\n         Else (feature 80 > 3.3231500457754666)\\n          Predict: -0.6528399719218827\\n       Else (feature 77 > 1.5418324362608973)\\n        If (feature 3 <= 1.208316920073169)\\n         If (feature 81 <= 0.9711249997855657)\\n          Predict: 0.1271599675898355\\n         Else (feature 81 > 0.9711249997855657)\\n          Predict: -0.533595706260231\\n        Else (feature 3 > 1.208316920073169)\\n         If (feature 81 <= 0.5005028194398418)\\n          Predict: 1.6001845887408104\\n         Else (feature 81 > 0.5005028194398418)\\n          Predict: 0.6612806639525968\\n     Else (feature 78 > 1.5760432419208692)\\n      If (feature 81 <= 0.26519172926697976)\\n       If (feature 82 <= 0.33496855984697904)\\n        If (feature 82 <= -0.04447339733512558)\\n         If (feature 81 <= -0.9113637215973301)\\n          Predict: -0.5484990336842963\\n         Else (feature 81 > -0.9113637215973301)\\n          Predict: 0.00836260266216171\\n        Else (feature 82 > -0.04447339733512558)\\n         If (feature 4 <= 1.5668360674096098)\\n          Predict: 0.8413996219357831\\n         Else (feature 4 > 1.5668360674096098)\\n          Predict: -2.1764992623116015\\n       Else (feature 82 > 0.33496855984697904)\\n        If (feature 82 <= 1.8527363885753974)\\n         If (feature 82 <= 1.0938524742111881)\\n          Predict: -0.464405547334898\\n         Else (feature 82 > 1.0938524742111881)\\n          Predict: -1.0033047390009855\\n        Else (feature 82 > 1.8527363885753974)\\n         If (feature 1 <= 0.6491160336194239)\\n          Predict: 1.0362334835463458\\n         Else (feature 1 > 0.6491160336194239)\\n          Predict: -0.23836684426507185\\n      Else (feature 81 > 0.26519172926697976)\\n       If (feature 2 <= 1.207308979485176)\\n        If (feature 0 <= 0.28887477222782837)\\n         If (feature 4 <= 1.5668360674096098)\\n          Predict: 0.7103753873847907\\n         Else (feature 4 > 1.5668360674096098)\\n          Predict: 1.4377470708734539\\n        Else (feature 0 > 0.28887477222782837)\\n         If (feature 82 <= -0.550396006911265)\\n          Predict: 0.9125147473742342\\n         Else (feature 82 > -0.550396006911265)\\n          Predict: -0.1697503361310568\\n       Else (feature 2 > 1.207308979485176)\\n        If (feature 81 <= 1.4417471801312898)\\n         If (feature 82 <= -0.42391535451723017)\\n          Predict: -0.21935184685973996\\n         Else (feature 82 > -0.42391535451723017)\\n          Predict: -2.237262337295568\\n        Else (feature 81 > 1.4417471801312898)\\n         Predict: 0.7910339547035701\\n  Tree 8 (weight 0.1):\\n    If (feature 82 <= 0.33496855984697904)\\n     If (feature 82 <= -0.17095404972916045)\\n      If (feature 15 <= 5.136266233782337)\\n       If (feature 32 <= 19.34598998584683)\\n        If (feature 28 <= 15.584992185794302)\\n         If (feature 14 <= 4.381408390819305)\\n          Predict: 0.01344806031897793\\n         Else (feature 14 > 4.381408390819305)\\n          Predict: 0.18792809100136348\\n        Else (feature 28 > 15.584992185794302)\\n         If (feature 82 <= -0.2974347021231953)\\n          Predict: 0.8599671420797208\\n         Else (feature 82 > -0.2974347021231953)\\n          Predict: -0.634256661969817\\n       Else (feature 32 > 19.34598998584683)\\n        If (feature 82 <= -0.8033573116993347)\\n         If (feature 77 <= 1.5418324362608973)\\n          Predict: 1.2517325129490329\\n         Else (feature 77 > 1.5418324362608973)\\n          Predict: -3.288924480759663\\n        Else (feature 82 > -0.8033573116993347)\\n         If (feature 4 <= 1.5668360674096098)\\n          Predict: -1.6419001203663635\\n         Else (feature 4 > 1.5668360674096098)\\n          Predict: 1.4107369565110446\\n      Else (feature 15 > 5.136266233782337)\\n       If (feature 82 <= -0.6768766593052999)\\n        If (feature 82 <= -0.8033573116993347)\\n         If (feature 3 <= 1.208316920073169)\\n          Predict: -0.16248299611632158\\n         Else (feature 3 > 1.208316920073169)\\n          Predict: -1.1914169297267994\\n        Else (feature 82 > -0.8033573116993347)\\n         If (feature 1 <= 0.6491160336194239)\\n          Predict: -0.4955524966025586\\n         Else (feature 1 > 0.6491160336194239)\\n          Predict: -1.5387111425950224\\n       Else (feature 82 > -0.6768766593052999)\\n        If (feature 3 <= 1.208316920073169)\\n         If (feature 81 <= 0.9711249997855657)\\n          Predict: -0.09448230589720756\\n         Else (feature 81 > 0.9711249997855657)\\n          Predict: -1.7752945530761532\\n        Else (feature 3 > 1.208316920073169)\\n         If (feature 81 <= 0.029880639094117766)\\n          Predict: 1.4976027466813733\\n         Else (feature 81 > 0.029880639094117766)\\n          Predict: -1.8724460133402463\\n     Else (feature 82 > -0.17095404972916045)\\n      If (feature 1 <= 0.6491160336194239)\\n       If (feature 16 <= 5.448216422872503)\\n        If (feature 78 <= 1.5760432419208692)\\n         If (feature 7 <= 0.6448315785607937)\\n          Predict: -0.07465690581105475\\n         Else (feature 7 > 0.6448315785607937)\\n          Predict: -0.012529498110258896\\n        Else (feature 78 > 1.5760432419208692)\\n         If (feature 13 <= 3.8892288475201635)\\n          Predict: 0.0367341705529425\\n         Else (feature 13 > 3.8892288475201635)\\n          Predict: 1.3441035580986096\\n       Else (feature 16 > 5.448216422872503)\\n        If (feature 81 <= 0.029880639094117766)\\n         If (feature 74 <= 0.7169557671664422)\\n          Predict: -0.2131883985139637\\n         Else (feature 74 > 0.7169557671664422)\\n          Predict: 1.3385556927407087\\n        Else (feature 81 > 0.029880639094117766)\\n         If (feature 73 <= 0.43618650413775856)\\n          Predict: -0.791386256636937\\n         Else (feature 73 > 0.43618650413775856)\\n          Predict: 1.5233300745276566\\n      Else (feature 1 > 0.6491160336194239)\\n       If (feature 82 <= -0.04447339733512558)\\n        If (feature 81 <= 0.26519172926697976)\\n         If (feature 8 <= 1.3253148691816874)\\n          Predict: -0.03617699731127987\\n         Else (feature 8 > 1.3253148691816874)\\n          Predict: 0.26442332121360745\\n        Else (feature 81 > 0.26519172926697976)\\n         If (feature 73 <= 0.43618650413775856)\\n          Predict: -0.2222690720662089\\n         Else (feature 73 > 0.43618650413775856)\\n          Predict: -0.6457435101305983\\n       Else (feature 82 > -0.04447339733512558)\\n        If (feature 79 <= 2.401123861103726)\\n         If (feature 81 <= 0.14753618418054876)\\n          Predict: 0.0299675114295278\\n         Else (feature 81 > 0.14753618418054876)\\n          Predict: 0.1987658689884391\\n        Else (feature 79 > 2.401123861103726)\\n         If (feature 81 <= -1.264330356856623)\\n          Predict: 1.0597448778319438\\n         Else (feature 81 > -1.264330356856623)\\n          Predict: -0.36016239859510685\\n    Else (feature 82 > 0.33496855984697904)\\n     If (feature 8 <= 1.3253148691816874)\\n      If (feature 43 <= 30.532271191385437)\\n       If (feature 23 <= 10.985656449352286)\\n        If (feature 21 <= 8.5831576144222)\\n         If (feature 81 <= 1.6770582703041517)\\n          Predict: 0.0252423405147793\\n         Else (feature 81 > 1.6770582703041517)\\n          Predict: -0.05653698516371507\\n        Else (feature 21 > 8.5831576144222)\\n         If (feature 5 <= 1.5825317000163812)\\n          Predict: -0.20098127860096188\\n         Else (feature 5 > 1.5825317000163812)\\n          Predict: -0.9355521498878813\\n       Else (feature 23 > 10.985656449352286)\\n        If (feature 79 <= 2.401123861103726)\\n         If (feature 81 <= -0.9113637215973301)\\n          Predict: -1.1469019049646159\\n         Else (feature 81 > -0.9113637215973301)\\n          Predict: -0.30848499084192055\\n        Else (feature 79 > 2.401123861103726)\\n         If (feature 82 <= 1.4732944313932927)\\n          Predict: 1.7894242846089776\\n         Else (feature 82 > 1.4732944313932927)\\n          Predict: 1.4849403497400369\\n      Else (feature 43 > 30.532271191385437)\\n       If (feature 4 <= 1.5668360674096098)\\n        If (feature 81 <= -0.9113637215973301)\\n         If (feature 1 <= 0.6491160336194239)\\n          Predict: -2.2330254206577673\\n         Else (feature 1 > 0.6491160336194239)\\n          Predict: 1.7607411975863072\\n        Else (feature 81 > -0.9113637215973301)\\n         If (feature 82 <= 2.1056976933634672)\\n          Predict: -1.8551135931394482\\n         Else (feature 82 > 2.1056976933634672)\\n          Predict: -0.48354234187621614\\n       Else (feature 4 > 1.5668360674096098)\\n        Predict: 1.7115441095360673\\n     Else (feature 8 > 1.3253148691816874)\\n      If (feature 80 <= 3.3231500457754666)\\n       If (feature 75 <= 0.8095161175010939)\\n        If (feature 5 <= 1.5825317000163812)\\n         If (feature 74 <= 0.7169557671664422)\\n          Predict: 0.11009139814073902\\n         Else (feature 74 > 0.7169557671664422)\\n          Predict: 0.2675646213748136\\n        Else (feature 5 > 1.5825317000163812)\\n         If (feature 82 <= 1.346813778999258)\\n          Predict: 0.7566890297457437\\n         Else (feature 82 > 1.346813778999258)\\n          Predict: 0.10080221418296238\\n       Else (feature 75 > 0.8095161175010939)\\n        If (feature 81 <= -1.264330356856623)\\n         If (feature 82 <= 0.7144105170290835)\\n          Predict: 1.3375334706337696\\n         Else (feature 82 > 0.7144105170290835)\\n          Predict: 0.4931353580787888\\n        Else (feature 81 > -1.264330356856623)\\n         If (feature 82 <= 0.5879298646350488)\\n          Predict: 0.19608635063696414\\n         Else (feature 82 > 0.5879298646350488)\\n          Predict: -0.0842273852785312\\n      Else (feature 80 > 3.3231500457754666)\\n       If (feature 82 <= 0.7144105170290835)\\n        If (feature 81 <= 0.5005028194398418)\\n         If (feature 1 <= 0.6491160336194239)\\n          Predict: -1.6735479199038137\\n         Else (feature 1 > 0.6491160336194239)\\n          Predict: 0.5794410480577519\\n        Else (feature 81 > 0.5005028194398418)\\n         If (feature 82 <= 0.4614492122410139)\\n          Predict: -1.6371250966354225\\n         Else (feature 82 > 0.4614492122410139)\\n          Predict: -2.42246903482947\\n       Else (feature 82 > 0.7144105170290835)\\n        If (feature 82 <= 1.5997750837873275)\\n         If (feature 1 <= 0.6491160336194239)\\n          Predict: 0.7886071194438472\\n         Else (feature 1 > 0.6491160336194239)\\n          Predict: -0.3809313372341086\\n        Else (feature 82 > 1.5997750837873275)\\n         If (feature 2 <= 1.207308979485176)\\n          Predict: -0.5935890434362716\\n         Else (feature 2 > 1.207308979485176)\\n          Predict: -2.5966626214847603\\n  Tree 9 (weight 0.1):\\n    If (feature 81 <= -0.6760526314244681)\\n     If (feature 29 <= 16.62638940916157)\\n      If (feature 8 <= 1.3253148691816874)\\n       If (feature 81 <= -0.9113637215973301)\\n        If (feature 44 <= 30.532271191385437)\\n         If (feature 23 <= 10.985656449352286)\\n          Predict: 0.015751906548933676\\n         Else (feature 23 > 10.985656449352286)\\n          Predict: -0.46422052989885854\\n        Else (feature 44 > 30.532271191385437)\\n         If (feature 1 <= 0.6491160336194239)\\n          Predict: 1.30957764167206\\n         Else (feature 1 > 0.6491160336194239)\\n          Predict: -2.2442335081213507\\n       Else (feature 81 > -0.9113637215973301)\\n        If (feature 82 <= 0.7144105170290835)\\n         If (feature 10 <= 2.92873642617106)\\n          Predict: 0.107101035041022\\n         Else (feature 10 > 2.92873642617106)\\n          Predict: -0.49183013630267214\\n        Else (feature 82 > 0.7144105170290835)\\n         If (feature 82 <= 2.4851396505455714)\\n          Predict: 0.5869558938460693\\n         Else (feature 82 > 2.4851396505455714)\\n          Predict: -0.7235908799163482\\n      Else (feature 8 > 1.3253148691816874)\\n       If (feature 82 <= -1.435760573669509)\\n        If (feature 3 <= 1.208316920073169)\\n         If (feature 75 <= 0.8095161175010939)\\n          Predict: -0.2737726382923789\\n         Else (feature 75 > 0.8095161175010939)\\n          Predict: -1.1973518740456384\\n        Else (feature 3 > 1.208316920073169)\\n         If (feature 81 <= -1.264330356856623)\\n          Predict: -2.8172088885388424\\n         Else (feature 81 > -1.264330356856623)\\n          Predict: -2.8172088885388415\\n       Else (feature 82 > -1.435760573669509)\\n        If (feature 82 <= 2.232178345757502)\\n         If (feature 3 <= 1.208316920073169)\\n          Predict: 0.12036075322983497\\n         Else (feature 3 > 1.208316920073169)\\n          Predict: -0.18451016918715918\\n        Else (feature 82 > 2.232178345757502)\\n         If (feature 79 <= 2.401123861103726)\\n          Predict: 0.5632841741068884\\n         Else (feature 79 > 2.401123861103726)\\n          Predict: 1.3160111081569794\\n     Else (feature 29 > 16.62638940916157)\\n      If (feature 82 <= -1.0563186164874043)\\n       If (feature 79 <= 2.401123861103726)\\n        Predict: 0.9873210001530405\\n       Else (feature 79 > 2.401123861103726)\\n        Predict: 1.0644358849635647\\n      Else (feature 82 > -1.0563186164874043)\\n       If (feature 82 <= 0.8408911694231185)\\n        If (feature 82 <= -0.42391535451723017)\\n         If (feature 78 <= 1.5760432419208692)\\n          Predict: -1.0555074539107858\\n         Else (feature 78 > 1.5760432419208692)\\n          Predict: 1.7954865514737621\\n        Else (feature 82 > -0.42391535451723017)\\n         If (feature 3 <= 1.208316920073169)\\n          Predict: -1.7136059290699075\\n         Else (feature 3 > 1.208316920073169)\\n          Predict: 0.9847388323921002\\n       Else (feature 82 > 0.8408911694231185)\\n        If (feature 82 <= 1.5997750837873275)\\n         If (feature 76 <= 1.455655572535423)\\n          Predict: -0.4204961544644328\\n         Else (feature 76 > 1.455655572535423)\\n          Predict: 1.584412196120714\\n        Else (feature 82 > 1.5997750837873275)\\n         Predict: -1.7893855924340054\\n    Else (feature 81 > -0.6760526314244681)\\n     If (feature 65 <= 87.46199181971232)\\n      If (feature 2 <= 1.207308979485176)\\n       If (feature 18 <= 6.886749344567052)\\n        If (feature 53 <= 56.45259832676672)\\n         If (feature 82 <= 2.1056976933634672)\\n          Predict: -0.0019082683171584628\\n         Else (feature 82 > 2.1056976933634672)\\n          Predict: 0.052970445147689844\\n        Else (feature 53 > 56.45259832676672)\\n         If (feature 73 <= 0.43618650413775856)\\n          Predict: 1.25099304227919\\n         Else (feature 73 > 0.43618650413775856)\\n          Predict: 1.024550177278961\\n       Else (feature 18 > 6.886749344567052)\\n        If (feature 82 <= -0.17095404972916045)\\n         If (feature 82 <= -0.550396006911265)\\n          Predict: 0.258866379537607\\n         Else (feature 82 > -0.550396006911265)\\n          Predict: 0.5894920187701548\\n        Else (feature 82 > -0.17095404972916045)\\n         If (feature 82 <= 1.2203331266052229)\\n          Predict: -0.15147385323837181\\n         Else (feature 82 > 1.2203331266052229)\\n          Predict: 0.34077787092375805\\n      Else (feature 2 > 1.207308979485176)\\n       If (feature 10 <= 2.92873642617106)\\n        If (feature 82 <= 0.08200725505890928)\\n         If (feature 15 <= 5.136266233782337)\\n          Predict: -0.018435812464695157\\n         Else (feature 15 > 5.136266233782337)\\n          Predict: -0.5550716365865269\\n        Else (feature 82 > 0.08200725505890928)\\n         If (feature 82 <= 1.346813778999258)\\n          Predict: -0.18009188881629734\\n         Else (feature 82 > 1.346813778999258)\\n          Predict: 0.016156746374338643\\n       Else (feature 10 > 2.92873642617106)\\n        If (feature 79 <= 2.401123861103726)\\n         If (feature 75 <= 0.8095161175010939)\\n          Predict: 0.7785269773427608\\n         Else (feature 75 > 0.8095161175010939)\\n          Predict: 0.04628903382151523\\n        Else (feature 79 > 2.401123861103726)\\n         If (feature 82 <= -0.550396006911265)\\n          Predict: -0.4390900586300082\\n         Else (feature 82 > -0.550396006911265)\\n          Predict: -1.8392411780736135\\n     Else (feature 65 > 87.46199181971232)\\n      If (feature 78 <= 1.5760432419208692)\\n       If (feature 3 <= 1.208316920073169)\\n        If (feature 0 <= 0.28887477222782837)\\n         Predict: -2.233465586476433\\n        Else (feature 0 > 0.28887477222782837)\\n         Predict: -2.2335450160129517\\n       Else (feature 3 > 1.208316920073169)\\n        Predict: -2.2002121325853503\\n      Else (feature 78 > 1.5760432419208692)\\n       Predict: -2.5394884056837785\\n'"
            ]
          },
          "metadata": {
            "tags": []
          },
          "execution_count": 73
        }
      ]
    }
  ]
}